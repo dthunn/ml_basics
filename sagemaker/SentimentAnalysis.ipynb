{
 "cells": [
  {
   "cell_type": "code",
   "execution_count": 1,
   "id": "8e4fbc80-1ef0-40bf-94b5-29fd6d0068bf",
   "metadata": {
    "execution": {
     "iopub.execute_input": "2025-08-10T18:25:29.002988Z",
     "iopub.status.busy": "2025-08-10T18:25:29.002613Z",
     "iopub.status.idle": "2025-08-10T18:25:32.148367Z",
     "shell.execute_reply": "2025-08-10T18:25:32.147578Z",
     "shell.execute_reply.started": "2025-08-10T18:25:29.002962Z"
    }
   },
   "outputs": [
    {
     "name": "stdout",
     "output_type": "stream",
     "text": [
      "sagemaker.config INFO - Not applying SDK defaults from location: /etc/xdg/sagemaker/config.yaml\n",
      "sagemaker.config INFO - Not applying SDK defaults from location: /home/sagemaker-user/.config/sagemaker/config.yaml\n"
     ]
    }
   ],
   "source": [
    "import sagemaker\n",
    "import boto3\n",
    "from sagemaker.huggingface import HuggingFaceModel\n",
    "\n",
    "try:\n",
    "    role = sagemaker.get_execution_role()\n",
    "except ValueError:\n",
    "    iam = boto3.client('iam')\n",
    "    role = iam.get_role(RoleName='sagemaker_execution_role')['Role']['Arn']\n",
    "\n",
    "# Hub Model configuration. https://huggingface.co/models\n",
    "hub = {\n",
    "    'HF_MODEL_ID': 'cardiffnlp/twitter-roberta-base-sentiment-latest',\n",
    "    'HF_TASK': 'text-classification'\n",
    "}\n",
    "\n",
    "# create Hugging Face Model Class\n",
    "huggingface_model = HuggingFaceModel(\n",
    "    transformers_version='4.49.0',\n",
    "    pytorch_version='2.6.0',\n",
    "    py_version='py312',\n",
    "    env=hub,\n",
    "    role=role,\n",
    ")\n"
   ]
  },
  {
   "cell_type": "code",
   "execution_count": 2,
   "id": "43714202-da79-4488-a1f6-c759dc4441ef",
   "metadata": {
    "execution": {
     "iopub.execute_input": "2025-08-10T18:27:12.782349Z",
     "iopub.status.busy": "2025-08-10T18:27:12.781607Z",
     "iopub.status.idle": "2025-08-10T18:30:15.292695Z",
     "shell.execute_reply": "2025-08-10T18:30:15.291747Z",
     "shell.execute_reply.started": "2025-08-10T18:27:12.782304Z"
    }
   },
   "outputs": [
    {
     "name": "stdout",
     "output_type": "stream",
     "text": [
      "-----!"
     ]
    },
    {
     "data": {
      "text/plain": [
       "[{'label': 'positive', 'score': 0.9015682339668274}]"
      ]
     },
     "execution_count": 2,
     "metadata": {},
     "output_type": "execute_result"
    }
   ],
   "source": [
    "# deploy model to SageMaker Inference\n",
    "predictor = huggingface_model.deploy(\n",
    "    initial_instance_count=1, # number of instances\n",
    "    instance_type='ml.m5.xlarge' # ec2 instance type\n",
    ")"
   ]
  },
  {
   "cell_type": "code",
   "execution_count": null,
   "id": "d7d36e84-0427-40c8-a957-6214727f28b1",
   "metadata": {},
   "outputs": [],
   "source": [
    "predictor.predict({\n",
    "    \"inputs\": \"I like you. You're alright\",\n",
    "})"
   ]
  }
 ],
 "metadata": {
  "kernelspec": {
   "display_name": "Python 3 (ipykernel)",
   "language": "python",
   "name": "python3"
  },
  "language_info": {
   "codemirror_mode": {
    "name": "ipython",
    "version": 3
   },
   "file_extension": ".py",
   "mimetype": "text/x-python",
   "name": "python",
   "nbconvert_exporter": "python",
   "pygments_lexer": "ipython3",
   "version": "3.12.9"
  }
 },
 "nbformat": 4,
 "nbformat_minor": 5
}
