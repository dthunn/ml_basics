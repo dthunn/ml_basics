{
 "cells": [
  {
   "cell_type": "markdown",
   "id": "1b2b7d79",
   "metadata": {},
   "source": [
    "# SageMaker Demo: Employee Attrition Prediction Using Debugger\n",
    "\n",
    "This notebook demonstrates how to use Amazon SageMaker's Debugger for employee attrition binary classification."
   ]
  },
  {
   "cell_type": "code",
   "execution_count": 74,
   "id": "07bc85d7",
   "metadata": {},
   "outputs": [
    {
     "data": {
      "text/html": [
       "<div>\n",
       "<style scoped>\n",
       "    .dataframe tbody tr th:only-of-type {\n",
       "        vertical-align: middle;\n",
       "    }\n",
       "\n",
       "    .dataframe tbody tr th {\n",
       "        vertical-align: top;\n",
       "    }\n",
       "\n",
       "    .dataframe thead th {\n",
       "        text-align: right;\n",
       "    }\n",
       "</style>\n",
       "<table border=\"1\" class=\"dataframe\">\n",
       "  <thead>\n",
       "    <tr style=\"text-align: right;\">\n",
       "      <th></th>\n",
       "      <th>Education</th>\n",
       "      <th>JoiningYear</th>\n",
       "      <th>City</th>\n",
       "      <th>PaymentTier</th>\n",
       "      <th>Age</th>\n",
       "      <th>Gender</th>\n",
       "      <th>EverBenched</th>\n",
       "      <th>ExperienceInCurrentDomain</th>\n",
       "      <th>LeaveOrNot</th>\n",
       "    </tr>\n",
       "  </thead>\n",
       "  <tbody>\n",
       "    <tr>\n",
       "      <th>0</th>\n",
       "      <td>Bachelors</td>\n",
       "      <td>2017</td>\n",
       "      <td>Bangalore</td>\n",
       "      <td>3</td>\n",
       "      <td>34</td>\n",
       "      <td>Male</td>\n",
       "      <td>No</td>\n",
       "      <td>0</td>\n",
       "      <td>0</td>\n",
       "    </tr>\n",
       "    <tr>\n",
       "      <th>1</th>\n",
       "      <td>Bachelors</td>\n",
       "      <td>2013</td>\n",
       "      <td>Pune</td>\n",
       "      <td>1</td>\n",
       "      <td>28</td>\n",
       "      <td>Female</td>\n",
       "      <td>No</td>\n",
       "      <td>3</td>\n",
       "      <td>1</td>\n",
       "    </tr>\n",
       "    <tr>\n",
       "      <th>2</th>\n",
       "      <td>Bachelors</td>\n",
       "      <td>2014</td>\n",
       "      <td>New Delhi</td>\n",
       "      <td>3</td>\n",
       "      <td>38</td>\n",
       "      <td>Female</td>\n",
       "      <td>No</td>\n",
       "      <td>2</td>\n",
       "      <td>0</td>\n",
       "    </tr>\n",
       "    <tr>\n",
       "      <th>3</th>\n",
       "      <td>Masters</td>\n",
       "      <td>2016</td>\n",
       "      <td>Bangalore</td>\n",
       "      <td>3</td>\n",
       "      <td>27</td>\n",
       "      <td>Male</td>\n",
       "      <td>No</td>\n",
       "      <td>5</td>\n",
       "      <td>1</td>\n",
       "    </tr>\n",
       "    <tr>\n",
       "      <th>4</th>\n",
       "      <td>Masters</td>\n",
       "      <td>2017</td>\n",
       "      <td>Pune</td>\n",
       "      <td>3</td>\n",
       "      <td>24</td>\n",
       "      <td>Male</td>\n",
       "      <td>Yes</td>\n",
       "      <td>2</td>\n",
       "      <td>1</td>\n",
       "    </tr>\n",
       "  </tbody>\n",
       "</table>\n",
       "</div>"
      ],
      "text/plain": [
       "   Education  JoiningYear       City  PaymentTier  Age  Gender EverBenched  \\\n",
       "0  Bachelors         2017  Bangalore            3   34    Male          No   \n",
       "1  Bachelors         2013       Pune            1   28  Female          No   \n",
       "2  Bachelors         2014  New Delhi            3   38  Female          No   \n",
       "3    Masters         2016  Bangalore            3   27    Male          No   \n",
       "4    Masters         2017       Pune            3   24    Male         Yes   \n",
       "\n",
       "   ExperienceInCurrentDomain  LeaveOrNot  \n",
       "0                          0           0  \n",
       "1                          3           1  \n",
       "2                          2           0  \n",
       "3                          5           1  \n",
       "4                          2           1  "
      ]
     },
     "execution_count": 74,
     "metadata": {},
     "output_type": "execute_result"
    }
   ],
   "source": [
    "# Step 1: Setup\n",
    "import sagemaker\n",
    "from sagemaker import get_execution_role\n",
    "import boto3\n",
    "import pandas as pd\n",
    "from sklearn.model_selection import train_test_split \n",
    "\n",
    "sagemaker_session = sagemaker.Session()\n",
    "role = get_execution_role()\n",
    "region = boto3.Session().region_name\n",
    "\n",
    "# S3 bucket for storing data\n",
    "bucket = 'sagemaker-ml-28573'\n",
    "\n",
    "\n",
    "# Load the dataset\n",
    "file_path = 'Employee.csv'  # Replace with your actual file path in S3 if needed\n",
    "employee_df = pd.read_csv(file_path)\n",
    "employee_df.head()"
   ]
  },
  {
   "cell_type": "code",
   "execution_count": 75,
   "id": "275e0021",
   "metadata": {},
   "outputs": [
    {
     "name": "stdout",
     "output_type": "stream",
     "text": [
      "Education                     int8\n",
      "JoiningYear                  int64\n",
      "City                          int8\n",
      "PaymentTier                  int64\n",
      "Age                          int64\n",
      "Gender                        int8\n",
      "EverBenched                  int64\n",
      "ExperienceInCurrentDomain    int64\n",
      "LeaveOrNot                   int64\n",
      "dtype: object\n"
     ]
    },
    {
     "data": {
      "text/html": [
       "<div>\n",
       "<style scoped>\n",
       "    .dataframe tbody tr th:only-of-type {\n",
       "        vertical-align: middle;\n",
       "    }\n",
       "\n",
       "    .dataframe tbody tr th {\n",
       "        vertical-align: top;\n",
       "    }\n",
       "\n",
       "    .dataframe thead th {\n",
       "        text-align: right;\n",
       "    }\n",
       "</style>\n",
       "<table border=\"1\" class=\"dataframe\">\n",
       "  <thead>\n",
       "    <tr style=\"text-align: right;\">\n",
       "      <th></th>\n",
       "      <th>LeaveOrNot</th>\n",
       "      <th>Education</th>\n",
       "      <th>JoiningYear</th>\n",
       "      <th>City</th>\n",
       "      <th>PaymentTier</th>\n",
       "      <th>Age</th>\n",
       "      <th>Gender</th>\n",
       "      <th>EverBenched</th>\n",
       "      <th>ExperienceInCurrentDomain</th>\n",
       "    </tr>\n",
       "  </thead>\n",
       "  <tbody>\n",
       "    <tr>\n",
       "      <th>0</th>\n",
       "      <td>0</td>\n",
       "      <td>0</td>\n",
       "      <td>2017</td>\n",
       "      <td>0</td>\n",
       "      <td>3</td>\n",
       "      <td>34</td>\n",
       "      <td>1</td>\n",
       "      <td>0</td>\n",
       "      <td>0</td>\n",
       "    </tr>\n",
       "    <tr>\n",
       "      <th>1</th>\n",
       "      <td>1</td>\n",
       "      <td>0</td>\n",
       "      <td>2013</td>\n",
       "      <td>2</td>\n",
       "      <td>1</td>\n",
       "      <td>28</td>\n",
       "      <td>0</td>\n",
       "      <td>0</td>\n",
       "      <td>3</td>\n",
       "    </tr>\n",
       "    <tr>\n",
       "      <th>2</th>\n",
       "      <td>0</td>\n",
       "      <td>0</td>\n",
       "      <td>2014</td>\n",
       "      <td>1</td>\n",
       "      <td>3</td>\n",
       "      <td>38</td>\n",
       "      <td>0</td>\n",
       "      <td>0</td>\n",
       "      <td>2</td>\n",
       "    </tr>\n",
       "    <tr>\n",
       "      <th>3</th>\n",
       "      <td>1</td>\n",
       "      <td>1</td>\n",
       "      <td>2016</td>\n",
       "      <td>0</td>\n",
       "      <td>3</td>\n",
       "      <td>27</td>\n",
       "      <td>1</td>\n",
       "      <td>0</td>\n",
       "      <td>5</td>\n",
       "    </tr>\n",
       "    <tr>\n",
       "      <th>4</th>\n",
       "      <td>1</td>\n",
       "      <td>1</td>\n",
       "      <td>2017</td>\n",
       "      <td>2</td>\n",
       "      <td>3</td>\n",
       "      <td>24</td>\n",
       "      <td>1</td>\n",
       "      <td>1</td>\n",
       "      <td>2</td>\n",
       "    </tr>\n",
       "  </tbody>\n",
       "</table>\n",
       "</div>"
      ],
      "text/plain": [
       "   LeaveOrNot  Education  JoiningYear  City  PaymentTier  Age  Gender  \\\n",
       "0           0          0         2017     0            3   34       1   \n",
       "1           1          0         2013     2            1   28       0   \n",
       "2           0          0         2014     1            3   38       0   \n",
       "3           1          1         2016     0            3   27       1   \n",
       "4           1          1         2017     2            3   24       1   \n",
       "\n",
       "   EverBenched  ExperienceInCurrentDomain  \n",
       "0            0                          0  \n",
       "1            0                          3  \n",
       "2            0                          2  \n",
       "3            0                          5  \n",
       "4            1                          2  "
      ]
     },
     "execution_count": 75,
     "metadata": {},
     "output_type": "execute_result"
    }
   ],
   "source": [
    "# Step 2: Data Preparation\n",
    "# Convert categorical columns to numeric\n",
    "employee_df['Education'] = employee_df['Education'].astype('category').cat.codes\n",
    "employee_df['City'] = employee_df['City'].astype('category').cat.codes\n",
    "employee_df['Gender'] = employee_df['Gender'].astype('category').cat.codes\n",
    "employee_df['EverBenched'] = employee_df['EverBenched'].map({'Yes': 1, 'No': 0})\n",
    "\n",
    "# Drop rows with NaN values in the target column\n",
    "employee_df.dropna(subset=['LeaveOrNot'])\n",
    "\n",
    "# Convert target column to numeric if needed\n",
    "employee_df['LeaveOrNot'] = employee_df['LeaveOrNot'].astype(int)\n",
    "\n",
    "# Ensure no missing values in feature columns\n",
    "employee_df = employee_df.dropna()\n",
    "\n",
    "# Verify all columns are numeric\n",
    "print(employee_df.dtypes)\n",
    "\n",
    "# Define features and target\n",
    "feature_columns = [\n",
    "    'Education', 'JoiningYear', 'City', 'PaymentTier', 'Age',\n",
    "    'Gender', 'EverBenched', 'ExperienceInCurrentDomain'\n",
    "]\n",
    "target_column = 'LeaveOrNot'\n",
    "\n",
    "employee_df = employee_df[[target_column] + feature_columns]\n",
    "\n",
    "\n",
    "train_df, test_df = train_test_split(employee_df, test_size=0.2, random_state=42)\n",
    "\n",
    "# Display the transformed dataset\n",
    "employee_df.head()"
   ]
  },
  {
   "cell_type": "markdown",
   "id": "7dc2f17f-7e0e-4a9a-9674-b3c567a64801",
   "metadata": {},
   "source": [
    "## Preparing Training Data Paths"
   ]
  },
  {
   "cell_type": "code",
   "execution_count": 76,
   "id": "8573a23c-21c8-45cd-842d-0baf311e00c5",
   "metadata": {
    "scrolled": true
   },
   "outputs": [
    {
     "name": "stdout",
     "output_type": "stream",
     "text": [
      "Training data uploaded to s3://sagemaker-ml-28573/input-data/train/train.csv\n",
      "Validation data uploaded to s3://sagemaker-ml-28573/input-data/validation/validation.csv\n"
     ]
    }
   ],
   "source": [
    "# Initialize S3 client\n",
    "s3 = boto3.client('s3')\n",
    "\n",
    "# Define your S3 bucket and prefix\n",
    "bucket = 'sagemaker-ml-28573'\n",
    "prefix = 'input-data'\n",
    "\n",
    "# Save the data locally first\n",
    "train_file = 'train.csv'\n",
    "validation_file = 'validation.csv'\n",
    "train_df.to_csv(train_file, index=False)\n",
    "test_df.to_csv(validation_file, index=False)\n",
    "\n",
    "# Upload the data to S3\n",
    "s3.upload_file(train_file, bucket, f'{prefix}/train/{train_file}')\n",
    "s3.upload_file(validation_file, bucket, f'{prefix}/validation/{validation_file}')\n",
    "\n",
    "print(f\"Training data uploaded to s3://{bucket}/{prefix}/train/{train_file}\")\n",
    "print(f\"Validation data uploaded to s3://{bucket}/{prefix}/validation/{validation_file}\")\n"
   ]
  },
  {
   "cell_type": "markdown",
   "id": "e5856938-2cf6-4371-87c6-385fb463bfe9",
   "metadata": {},
   "source": [
    "## Prepare Training with Bad Hyperparameters"
   ]
  },
  {
   "cell_type": "code",
   "execution_count": 77,
   "id": "eb8828f2-f342-4908-b548-513c991127ec",
   "metadata": {},
   "outputs": [
    {
     "name": "stderr",
     "output_type": "stream",
     "text": [
      "INFO:sagemaker.image_uris:Ignoring unnecessary instance type: None.\n",
      "INFO:sagemaker:Creating training-job with name: sagemaker-xgboost-2024-09-03-09-49-39-745\n"
     ]
    },
    {
     "name": "stdout",
     "output_type": "stream",
     "text": [
      "2024-09-03 09:49:41 Starting - Starting the training job...\n",
      "2024-09-03 09:49:55 Starting - Preparing the instances for training...\n",
      "2024-09-03 09:50:26 Downloading - Downloading input data...\n",
      "2024-09-03 09:50:51 Downloading - Downloading the training image.....\u001b[34m[2024-09-03 09:51:54.787 ip-10-2-123-204.ec2.internal:7 INFO utils.py:28] RULE_JOB_STOP_SIGNAL_FILENAME: None\u001b[0m\n",
      "\u001b[34m[2024-09-03 09:51:54.809 ip-10-2-123-204.ec2.internal:7 INFO profiler_config_parser.py:111] User has disabled profiler.\u001b[0m\n",
      "\u001b[34m[2024-09-03:09:51:55:INFO] Imported framework sagemaker_xgboost_container.training\u001b[0m\n",
      "\u001b[34m[2024-09-03:09:51:55:INFO] Failed to parse hyperparameter objective value reg:squarederror to Json.\u001b[0m\n",
      "\u001b[34mReturning the value itself\u001b[0m\n",
      "\u001b[34m[2024-09-03:09:51:55:INFO] No GPUs detected (normal if no gpus installed)\u001b[0m\n",
      "\u001b[34m[2024-09-03:09:51:55:INFO] Running XGBoost Sagemaker in algorithm mode\u001b[0m\n",
      "\u001b[34m[2024-09-03:09:51:55:INFO] Determined 0 GPU(s) available on the instance.\u001b[0m\n",
      "\u001b[34m[2024-09-03:09:51:55:INFO] Determined delimiter of CSV input is ','\u001b[0m\n",
      "\u001b[34m[2024-09-03:09:51:55:INFO] Determined delimiter of CSV input is ','\u001b[0m\n",
      "\u001b[34m[2024-09-03:09:51:55:INFO] File path /opt/ml/input/data/train of input files\u001b[0m\n",
      "\u001b[34m[2024-09-03:09:51:55:INFO] Making smlinks from folder /opt/ml/input/data/train to folder /tmp/sagemaker_xgboost_input_data\u001b[0m\n",
      "\u001b[34m[2024-09-03:09:51:55:INFO] creating symlink between Path /opt/ml/input/data/train/train.csv and destination /tmp/sagemaker_xgboost_input_data/train.csv-4959674092248267436\u001b[0m\n",
      "\u001b[34m[2024-09-03:09:51:55:INFO] files path: /tmp/sagemaker_xgboost_input_data\u001b[0m\n",
      "\u001b[34m[2024-09-03:09:51:55:INFO] Determined delimiter of CSV input is ','\u001b[0m\n",
      "\u001b[34m[2024-09-03:09:51:55:INFO] File path /opt/ml/input/data/validation of input files\u001b[0m\n",
      "\u001b[34m[2024-09-03:09:51:55:INFO] Making smlinks from folder /opt/ml/input/data/validation to folder /tmp/sagemaker_xgboost_input_data\u001b[0m\n",
      "\u001b[34m[2024-09-03:09:51:55:INFO] creating symlink between Path /opt/ml/input/data/validation/validation.csv and destination /tmp/sagemaker_xgboost_input_data/validation.csv-3302484469056753661\u001b[0m\n",
      "\u001b[34m[2024-09-03:09:51:55:INFO] files path: /tmp/sagemaker_xgboost_input_data\u001b[0m\n",
      "\u001b[34m[2024-09-03:09:51:55:INFO] Determined delimiter of CSV input is ','\u001b[0m\n",
      "\u001b[34m[2024-09-03:09:51:55:INFO] Single node training.\u001b[0m\n",
      "\u001b[34m[2024-09-03:09:51:55:INFO] Train matrix has 3723 rows and 8 columns\u001b[0m\n",
      "\u001b[34m[2024-09-03:09:51:55:INFO] Validation matrix has 932 rows\u001b[0m\n",
      "\u001b[34m[2024-09-03 09:51:55.243 ip-10-2-123-204.ec2.internal:7 INFO json_config.py:92] Creating hook from json_config at /opt/ml/input/config/debughookconfig.json.\u001b[0m\n",
      "\u001b[34m[2024-09-03 09:51:55.243 ip-10-2-123-204.ec2.internal:7 INFO hook.py:206] tensorboard_dir has not been set for the hook. SMDebug will not be exporting tensorboard summaries.\u001b[0m\n",
      "\u001b[34m[2024-09-03 09:51:55.244 ip-10-2-123-204.ec2.internal:7 INFO hook.py:259] Saving to /opt/ml/output/tensors\u001b[0m\n",
      "\u001b[34m[2024-09-03 09:51:55.244 ip-10-2-123-204.ec2.internal:7 INFO state_store.py:77] The checkpoint config file /opt/ml/input/config/checkpointconfig.json does not exist.\u001b[0m\n",
      "\u001b[34m[2024-09-03:09:51:55:INFO] Debug hook created from config\u001b[0m\n",
      "\u001b[34m[0]#011train-rmse:0.47847#011validation-rmse:0.47678\u001b[0m\n",
      "\u001b[34m[2024-09-03 09:51:55.254 ip-10-2-123-204.ec2.internal:7 INFO hook.py:427] Monitoring the collections: metrics\u001b[0m\n",
      "\u001b[34m[2024-09-03 09:51:55.257 ip-10-2-123-204.ec2.internal:7 INFO hook.py:491] Hook is writing from the hook with pid: 7\u001b[0m\n",
      "\u001b[34m[1]#011train-rmse:0.47245#011validation-rmse:0.47071\u001b[0m\n",
      "\u001b[34m[2]#011train-rmse:0.46865#011validation-rmse:0.46687\u001b[0m\n",
      "\u001b[34m[3]#011train-rmse:0.46618#011validation-rmse:0.46438\u001b[0m\n",
      "\u001b[34m[4]#011train-rmse:0.46460#011validation-rmse:0.46278\u001b[0m\n",
      "\u001b[34m[5]#011train-rmse:0.46363#011validation-rmse:0.46179\u001b[0m\n",
      "\u001b[34m[6]#011train-rmse:0.46300#011validation-rmse:0.46115\u001b[0m\n",
      "\u001b[34m[7]#011train-rmse:0.46259#011validation-rmse:0.46073\u001b[0m\n",
      "\u001b[34m[8]#011train-rmse:0.46231#011validation-rmse:0.46045\u001b[0m\n",
      "\u001b[34m[9]#011train-rmse:0.46216#011validation-rmse:0.46028\u001b[0m\n",
      "\u001b[34m[10]#011train-rmse:0.46206#011validation-rmse:0.46018\u001b[0m\n",
      "\u001b[34m[11]#011train-rmse:0.46199#011validation-rmse:0.46012\u001b[0m\n",
      "\u001b[34m[12]#011train-rmse:0.46194#011validation-rmse:0.46006\u001b[0m\n",
      "\u001b[34m[13]#011train-rmse:0.46191#011validation-rmse:0.46003\u001b[0m\n",
      "\u001b[34m[14]#011train-rmse:0.46189#011validation-rmse:0.46001\u001b[0m\n",
      "\u001b[34m[15]#011train-rmse:0.46188#011validation-rmse:0.45999\u001b[0m\n",
      "\u001b[34m[16]#011train-rmse:0.46187#011validation-rmse:0.45999\u001b[0m\n",
      "\u001b[34m[17]#011train-rmse:0.46187#011validation-rmse:0.45998\u001b[0m\n",
      "\u001b[34m[18]#011train-rmse:0.44458#011validation-rmse:0.44081\u001b[0m\n",
      "\u001b[34m[19]#011train-rmse:0.44458#011validation-rmse:0.44081\u001b[0m\n",
      "\u001b[34m[20]#011train-rmse:0.44458#011validation-rmse:0.44081\u001b[0m\n",
      "\u001b[34m[21]#011train-rmse:0.44458#011validation-rmse:0.44081\u001b[0m\n",
      "\u001b[34m[22]#011train-rmse:0.44458#011validation-rmse:0.44081\u001b[0m\n",
      "\u001b[34m[23]#011train-rmse:0.44458#011validation-rmse:0.44081\u001b[0m\n",
      "\u001b[34m[24]#011train-rmse:0.44458#011validation-rmse:0.44081\u001b[0m\n",
      "\u001b[34m[25]#011train-rmse:0.44458#011validation-rmse:0.44081\u001b[0m\n",
      "\u001b[34m[26]#011train-rmse:0.44457#011validation-rmse:0.44080\u001b[0m\n",
      "\u001b[34m[27]#011train-rmse:0.44457#011validation-rmse:0.44080\u001b[0m\n",
      "\u001b[34m[28]#011train-rmse:0.44457#011validation-rmse:0.44080\u001b[0m\n",
      "\u001b[34m[29]#011train-rmse:0.44458#011validation-rmse:0.44080\u001b[0m\n",
      "\u001b[34m[30]#011train-rmse:0.44458#011validation-rmse:0.44080\u001b[0m\n",
      "\u001b[34m[31]#011train-rmse:0.44457#011validation-rmse:0.44080\u001b[0m\n",
      "\u001b[34m[32]#011train-rmse:0.44457#011validation-rmse:0.44080\u001b[0m\n",
      "\u001b[34m[33]#011train-rmse:0.44457#011validation-rmse:0.44080\u001b[0m\n",
      "\u001b[34m[34]#011train-rmse:0.44457#011validation-rmse:0.44080\u001b[0m\n",
      "\u001b[34m[35]#011train-rmse:0.44457#011validation-rmse:0.44080\u001b[0m\n",
      "\u001b[34m[36]#011train-rmse:0.44457#011validation-rmse:0.44080\u001b[0m\n",
      "\u001b[34m[37]#011train-rmse:0.44457#011validation-rmse:0.44080\u001b[0m\n",
      "\u001b[34m[38]#011train-rmse:0.44457#011validation-rmse:0.44080\u001b[0m\n",
      "\u001b[34m[39]#011train-rmse:0.44457#011validation-rmse:0.44080\u001b[0m\n",
      "\u001b[34m[40]#011train-rmse:0.44457#011validation-rmse:0.44080\u001b[0m\n",
      "\u001b[34m[41]#011train-rmse:0.44457#011validation-rmse:0.44080\u001b[0m\n",
      "\u001b[34m[42]#011train-rmse:0.44457#011validation-rmse:0.44080\u001b[0m\n",
      "\u001b[34m[43]#011train-rmse:0.44457#011validation-rmse:0.44080\u001b[0m\n",
      "\u001b[34m[44]#011train-rmse:0.44457#011validation-rmse:0.44080\u001b[0m\n",
      "\u001b[34m[45]#011train-rmse:0.44457#011validation-rmse:0.44080\u001b[0m\n",
      "\u001b[34m[46]#011train-rmse:0.44457#011validation-rmse:0.44080\u001b[0m\n",
      "\u001b[34m[47]#011train-rmse:0.44457#011validation-rmse:0.44080\u001b[0m\n",
      "\u001b[34m[48]#011train-rmse:0.44457#011validation-rmse:0.44080\u001b[0m\n",
      "\u001b[34m[49]#011train-rmse:0.44457#011validation-rmse:0.44080\u001b[0m\n",
      "\u001b[34m[50]#011train-rmse:0.44457#011validation-rmse:0.44080\u001b[0m\n",
      "\u001b[34m[51]#011train-rmse:0.44457#011validation-rmse:0.44080\u001b[0m\n",
      "\u001b[34m[52]#011train-rmse:0.44457#011validation-rmse:0.44080\u001b[0m\n",
      "\u001b[34m[53]#011train-rmse:0.44457#011validation-rmse:0.44080\u001b[0m\n",
      "\u001b[34m[54]#011train-rmse:0.44457#011validation-rmse:0.44080\u001b[0m\n",
      "\u001b[34m[55]#011train-rmse:0.44457#011validation-rmse:0.44080\u001b[0m\n",
      "\u001b[34m[56]#011train-rmse:0.44457#011validation-rmse:0.44080\u001b[0m\n",
      "\u001b[34m[57]#011train-rmse:0.44457#011validation-rmse:0.44080\u001b[0m\n",
      "\u001b[34m[58]#011train-rmse:0.44457#011validation-rmse:0.44080\u001b[0m\n",
      "\u001b[34m[59]#011train-rmse:0.44457#011validation-rmse:0.44080\u001b[0m\n",
      "\n",
      "2024-09-03 09:52:16 Training - Training image download completed. Training in progress.\n",
      "2024-09-03 09:52:16 Uploading - Uploading generated training model\n",
      "2024-09-03 09:52:16 Completed - Training job completed\n",
      "Training seconds: 110\n",
      "Billable seconds: 110\n"
     ]
    }
   ],
   "source": [
    "import sagemaker\n",
    "import boto3\n",
    "from sagemaker import image_uris\n",
    "from sagemaker.inputs import TrainingInput\n",
    "\n",
    "# Initialize hyperparameters\n",
    "hyperparameters = {\n",
    "        \"max_depth\":\"15\", # very high depth\n",
    "        \"eta\":\"0.2\",\n",
    "        \"gamma\":\"80\", # change value here\n",
    "        \"min_child_weight\":\"6\",\n",
    "        \"subsample\":\"0.95\", # too high\n",
    "        \"objective\":\"reg:squarederror\",\n",
    "        \"num_round\":\"60\"}\n",
    "\n",
    "# Set an output path where the trained model will be saved\n",
    "bucket = 'sagemaker-ml-28573'\n",
    "prefix = 'debugger'\n",
    "output_path = f's3://{bucket}/{prefix}/output'\n",
    "\n",
    "# Retrieve the XGBoost image URI\n",
    "region = boto3.Session().region_name  # Automatically get the region\n",
    "xgboost_container = image_uris.retrieve(\"xgboost\", region, \"1.7-1\")\n",
    "\n",
    "# Construct a SageMaker estimator that calls the xgboost-container\n",
    "estimator = sagemaker.estimator.Estimator(image_uri=xgboost_container, \n",
    "                                          hyperparameters=hyperparameters,\n",
    "                                          role=sagemaker.get_execution_role(),\n",
    "                                          instance_count=1, \n",
    "                                          instance_type='ml.m5.xlarge', \n",
    "                                          volume_size=5,  # 5 GB \n",
    "                                          output_path=output_path)\n",
    "\n",
    "# Define the data type and paths to the training and validation datasets\n",
    "content_type = \"csv\"\n",
    "train_input = TrainingInput(f\"s3://{bucket}/input-data/train/\", content_type=content_type)\n",
    "validation_input = TrainingInput(f\"s3://{bucket}/input-data/validation/\", content_type=content_type)\n",
    "\n",
    "# Execute the XGBoost training job\n",
    "estimator.fit({'train': train_input, 'validation': validation_input})"
   ]
  },
  {
   "cell_type": "markdown",
   "id": "616811dc",
   "metadata": {},
   "source": [
    "## Deploy Model"
   ]
  },
  {
   "cell_type": "code",
   "execution_count": 78,
   "id": "8b4fd994",
   "metadata": {},
   "outputs": [
    {
     "name": "stderr",
     "output_type": "stream",
     "text": [
      "INFO:sagemaker:Creating model with name: sagemaker-xgboost-2024-09-03-09-52-26-691\n",
      "INFO:sagemaker:Creating endpoint-config with name sagemaker-xgboost-2024-09-03-09-52-26-691\n",
      "INFO:sagemaker:Creating endpoint with name sagemaker-xgboost-2024-09-03-09-52-26-691\n"
     ]
    },
    {
     "name": "stdout",
     "output_type": "stream",
     "text": [
      "------!"
     ]
    }
   ],
   "source": [
    "# Deploy model\n",
    "\n",
    "predictor = estimator.deploy(\n",
    "    initial_instance_count=1,\n",
    "    instance_type='ml.m5.xlarge'\n",
    ")\n"
   ]
  },
  {
   "cell_type": "code",
   "execution_count": 79,
   "id": "20d17540",
   "metadata": {},
   "outputs": [],
   "source": [
    "# Import necessary libraries\n",
    "import numpy as np\n",
    "import pandas as pd\n",
    "from sklearn.metrics import confusion_matrix, classification_report, accuracy_score\n",
    "\n",
    "# Set up the predictor\n",
    "predictor.content_type = \"text/csv\"\n",
    "predictor.serializer = sagemaker.serializers.CSVSerializer()\n",
    "predictor.deserializer = sagemaker.deserializers.JSONDeserializer()\n"
   ]
  },
  {
   "cell_type": "code",
   "execution_count": 80,
   "id": "76d7dfd3",
   "metadata": {},
   "outputs": [],
   "source": [
    "# Define a function to make predictions\n",
    "def predict(data, predictor, rows=500):\n",
    "    # Split the test data into mini-batches of rows\n",
    "    split_array = np.array_split(data, int(data.shape[0] / float(rows) + 1))\n",
    "    \n",
    "    # Initialize an empty list for predictions\n",
    "    predictions = []\n",
    "    \n",
    "    # Iterate through the mini-batches and make predictions\n",
    "    for array in split_array:\n",
    "        # Make a prediction for the mini-batch\n",
    "        pred = predictor.predict(array)\n",
    "        \n",
    "        # Assuming pred is a dictionary, extract the prediction values\n",
    "        if isinstance(pred, dict):\n",
    "            pred_values = pred.get(\"predictions\", [])\n",
    "            \n",
    "            # If predictions are a list of dictionaries, extract the values\n",
    "            if isinstance(pred_values, list):\n",
    "                for value in pred_values:\n",
    "                    if isinstance(value, dict):\n",
    "                        # Assuming each dictionary has a key that holds the actual prediction\n",
    "                        predictions.append(value.get(\"predicted_label\", value.get(\"score\", 0.0)))\n",
    "                    else:\n",
    "                        predictions.append(value)\n",
    "        else:\n",
    "            predictions.append(pred)\n",
    "\n",
    "    # Convert the list of predictions directly to a NumPy array\n",
    "    return np.array(predictions, dtype=float)\n",
    "\n",
    "# Load your test data into a NumPy array (assuming your test data is a Pandas DataFrame)\n",
    "test_df_np = test_df.to_numpy()\n",
    "\n",
    "# Separate the target variable (assumed to be in the first column) from the features\n",
    "actual = test_df_np[:, 0]   # First column is the target\n",
    "features = test_df_np[:, 1:]  # Remaining columns are the features\n",
    "\n",
    "# Make predictions on the features only\n",
    "predictions = predict(features, predictor)\n",
    "\n",
    "# Since this is binary classification, round the predictions\n",
    "predictions_rounded = np.round(predictions)\n"
   ]
  },
  {
   "cell_type": "code",
   "execution_count": null,
   "id": "f64e6714-2dd7-4047-8c61-2688a0722f09",
   "metadata": {},
   "outputs": [],
   "source": []
  },
  {
   "cell_type": "code",
   "execution_count": 100,
   "id": "df68ec47",
   "metadata": {
    "scrolled": true
   },
   "outputs": [
    {
     "name": "stdout",
     "output_type": "stream",
     "text": [
      "Confusion Matrix:\n",
      " [[610   0]\n",
      " [240  81]]\n",
      "\n",
      "Classification Report:\n",
      "               precision    recall  f1-score   support\n",
      "\n",
      "           0       0.72      1.00      0.84       610\n",
      "           1       1.00      0.25      0.40       321\n",
      "\n",
      "    accuracy                           0.74       931\n",
      "   macro avg       0.86      0.63      0.62       931\n",
      "weighted avg       0.81      0.74      0.69       931\n",
      "\n",
      "\n",
      "Accuracy Score: 0.7422126745435016\n"
     ]
    }
   ],
   "source": [
    "# Evaluate the model\n",
    "conf_matrix = confusion_matrix(actual, predictions_rounded)\n",
    "class_report = classification_report(actual, predictions_rounded)\n",
    "accuracy = accuracy_score(actual, predictions_rounded)\n",
    "\n",
    "# Print the evaluation results\n",
    "print(\"Confusion Matrix:\\n\", conf_matrix)\n",
    "print(\"\\nClassification Report:\\n\", class_report)\n",
    "print(\"\\nAccuracy Score:\", accuracy)"
   ]
  },
  {
   "cell_type": "code",
   "execution_count": null,
   "id": "9a2ddbfe-3724-4853-9096-1bc7c6c1f404",
   "metadata": {},
   "outputs": [],
   "source": [
    "!pip install seaborn"
   ]
  },
  {
   "cell_type": "code",
   "execution_count": 83,
   "id": "d82a6a15-d6e1-4826-82bd-e30e3375323e",
   "metadata": {
    "scrolled": true
   },
   "outputs": [
    {
     "data": {
      "image/png": "[encoded data removed]",
      "text/plain": [
       "<Figure size 800x600 with 1 Axes>"
      ]
     },
     "metadata": {},
     "output_type": "display_data"
    }
   ],
   "source": [
    "import numpy as np\n",
    "import matplotlib.pyplot as plt\n",
    "import seaborn as sns\n",
    "from sklearn.metrics import confusion_matrix, roc_curve, auc, precision_recall_curve\n",
    "\n",
    "# Assume predictions_rounded and actual are already available\n",
    "# actual = test_df_np[:, 0]  # Assuming the first column is the actual target\n",
    "\n",
    "# Confusion Matrix\n",
    "conf_matrix = confusion_matrix(actual, predictions_rounded)\n",
    "\n",
    "plt.figure(figsize=(8, 6))\n",
    "sns.heatmap(conf_matrix, annot=True, fmt='d', cmap='Blues', cbar=False)\n",
    "plt.title('Confusion Matrix')\n",
    "plt.xlabel('Predicted Label')\n",
    "plt.ylabel('True Label')\n",
    "plt.show()\n",
    "\n"
   ]
  },
  {
   "cell_type": "code",
   "execution_count": 84,
   "id": "dd410fd7-e595-4930-9c4c-7b129c853991",
   "metadata": {},
   "outputs": [
    {
     "name": "stderr",
     "output_type": "stream",
     "text": [
      "INFO:sagemaker.image_uris:Defaulting to the only supported framework/algorithm version: latest.\n",
      "INFO:sagemaker.image_uris:Ignoring unnecessary instance type: None.\n",
      "INFO:sagemaker.image_uris:Defaulting to the only supported framework/algorithm version: latest.\n",
      "INFO:sagemaker.image_uris:Ignoring unnecessary instance type: None.\n",
      "INFO:sagemaker:Creating training-job with name: sagemaker-xgboost-2024-09-03-09-55-59-739\n"
     ]
    },
    {
     "name": "stdout",
     "output_type": "stream",
     "text": [
      "2024-09-03 09:56:00 Starting - Starting the training job...\n",
      "2024-09-03 09:56:27 Starting - Preparing the instances for trainingOvertraining: InProgress\n",
      "LossNotDecreasing: InProgress\n",
      "...\n",
      "2024-09-03 09:56:58 Downloading - Downloading input data...\n",
      "2024-09-03 09:57:20 Downloading - Downloading the training image.....\u001b[34m[2024-09-03 09:58:17.020 ip-10-2-201-49.ec2.internal:7 INFO utils.py:28] RULE_JOB_STOP_SIGNAL_FILENAME: None\u001b[0m\n",
      "\u001b[34m[2024-09-03 09:58:17.042 ip-10-2-201-49.ec2.internal:7 INFO profiler_config_parser.py:111] User has disabled profiler.\u001b[0m\n",
      "\u001b[34m[2024-09-03:09:58:17:INFO] Imported framework sagemaker_xgboost_container.training\u001b[0m\n",
      "\u001b[34m[2024-09-03:09:58:17:INFO] Failed to parse hyperparameter objective value reg:squarederror to Json.\u001b[0m\n",
      "\u001b[34mReturning the value itself\u001b[0m\n",
      "\u001b[34m[2024-09-03:09:58:17:INFO] No GPUs detected (normal if no gpus installed)\u001b[0m\n",
      "\u001b[34m[2024-09-03:09:58:17:INFO] Running XGBoost Sagemaker in algorithm mode\u001b[0m\n",
      "\u001b[34m[2024-09-03:09:58:17:INFO] Determined 0 GPU(s) available on the instance.\u001b[0m\n",
      "\u001b[34m[2024-09-03:09:58:17:INFO] Determined delimiter of CSV input is ','\u001b[0m\n",
      "\u001b[34m[2024-09-03:09:58:17:INFO] Determined delimiter of CSV input is ','\u001b[0m\n",
      "\u001b[34m[2024-09-03:09:58:17:INFO] File path /opt/ml/input/data/train of input files\u001b[0m\n",
      "\u001b[34m[2024-09-03:09:58:17:INFO] Making smlinks from folder /opt/ml/input/data/train to folder /tmp/sagemaker_xgboost_input_data\u001b[0m\n",
      "\u001b[34m[2024-09-03:09:58:17:INFO] creating symlink between Path /opt/ml/input/data/train/train.csv and destination /tmp/sagemaker_xgboost_input_data/train.csv-6993608721902444154\u001b[0m\n",
      "\u001b[34m[2024-09-03:09:58:17:INFO] files path: /tmp/sagemaker_xgboost_input_data\u001b[0m\n",
      "\u001b[34m[2024-09-03:09:58:17:INFO] Determined delimiter of CSV input is ','\u001b[0m\n",
      "\u001b[34m[2024-09-03:09:58:17:INFO] File path /opt/ml/input/data/validation of input files\u001b[0m\n",
      "\u001b[34m[2024-09-03:09:58:17:INFO] Making smlinks from folder /opt/ml/input/data/validation to folder /tmp/sagemaker_xgboost_input_data\u001b[0m\n",
      "\u001b[34m[2024-09-03:09:58:17:INFO] creating symlink between Path /opt/ml/input/data/validation/validation.csv and destination /tmp/sagemaker_xgboost_input_data/validation.csv-2318807435823065729\u001b[0m\n",
      "\u001b[34m[2024-09-03:09:58:17:INFO] files path: /tmp/sagemaker_xgboost_input_data\u001b[0m\n",
      "\u001b[34m[2024-09-03:09:58:17:INFO] Determined delimiter of CSV input is ','\u001b[0m\n",
      "\u001b[34m[2024-09-03:09:58:17:INFO] Single node training.\u001b[0m\n",
      "\u001b[34m[2024-09-03:09:58:17:INFO] Train matrix has 3723 rows and 8 columns\u001b[0m\n",
      "\u001b[34m[2024-09-03:09:58:17:INFO] Validation matrix has 932 rows\u001b[0m\n",
      "\u001b[34m[2024-09-03 09:58:17.493 ip-10-2-201-49.ec2.internal:7 INFO json_config.py:92] Creating hook from json_config at /opt/ml/input/config/debughookconfig.json.\u001b[0m\n",
      "\u001b[34m[2024-09-03 09:58:17.494 ip-10-2-201-49.ec2.internal:7 INFO hook.py:206] tensorboard_dir has not been set for the hook. SMDebug will not be exporting tensorboard summaries.\u001b[0m\n",
      "\u001b[34m[2024-09-03 09:58:17.494 ip-10-2-201-49.ec2.internal:7 INFO hook.py:259] Saving to /opt/ml/output/tensors\u001b[0m\n",
      "\u001b[34m[2024-09-03 09:58:17.495 ip-10-2-201-49.ec2.internal:7 INFO state_store.py:77] The checkpoint config file /opt/ml/input/config/checkpointconfig.json does not exist.\u001b[0m\n",
      "\u001b[34m[2024-09-03:09:58:17:INFO] Debug hook created from config\u001b[0m\n",
      "\u001b[34m[0]#011train-rmse:0.47847#011validation-rmse:0.47678\u001b[0m\n",
      "\u001b[34m[2024-09-03 09:58:17.604 ip-10-2-201-49.ec2.internal:7 INFO hook.py:427] Monitoring the collections: losses, metrics\u001b[0m\n",
      "\u001b[34m[2024-09-03 09:58:17.606 ip-10-2-201-49.ec2.internal:7 INFO hook.py:491] Hook is writing from the hook with pid: 7\u001b[0m\n",
      "\u001b[34m[1]#011train-rmse:0.47245#011validation-rmse:0.47071\u001b[0m\n",
      "\u001b[34m[2]#011train-rmse:0.46865#011validation-rmse:0.46687\u001b[0m\n",
      "\u001b[34m[3]#011train-rmse:0.46618#011validation-rmse:0.46438\u001b[0m\n",
      "\u001b[34m[4]#011train-rmse:0.46460#011validation-rmse:0.46278\u001b[0m\n",
      "\u001b[34m[5]#011train-rmse:0.46363#011validation-rmse:0.46179\u001b[0m\n",
      "\u001b[34m[6]#011train-rmse:0.46300#011validation-rmse:0.46115\u001b[0m\n",
      "\u001b[34m[7]#011train-rmse:0.46259#011validation-rmse:0.46073\u001b[0m\n",
      "\u001b[34m[8]#011train-rmse:0.46231#011validation-rmse:0.46045\u001b[0m\n",
      "\u001b[34m[9]#011train-rmse:0.46216#011validation-rmse:0.46028\u001b[0m\n",
      "\u001b[34m[10]#011train-rmse:0.46206#011validation-rmse:0.46018\u001b[0m\n",
      "\u001b[34m[11]#011train-rmse:0.46199#011validation-rmse:0.46012\u001b[0m\n",
      "\u001b[34m[12]#011train-rmse:0.46194#011validation-rmse:0.46006\u001b[0m\n",
      "\u001b[34m[13]#011train-rmse:0.46191#011validation-rmse:0.46003\u001b[0m\n",
      "\u001b[34m[14]#011train-rmse:0.46189#011validation-rmse:0.46001\u001b[0m\n",
      "\u001b[34m[15]#011train-rmse:0.46188#011validation-rmse:0.45999\u001b[0m\n",
      "\u001b[34m[16]#011train-rmse:0.46187#011validation-rmse:0.45999\u001b[0m\n",
      "\u001b[34m[17]#011train-rmse:0.46187#011validation-rmse:0.45998\u001b[0m\n",
      "\u001b[34m[18]#011train-rmse:0.44458#011validation-rmse:0.44081\u001b[0m\n",
      "\u001b[34m[19]#011train-rmse:0.44458#011validation-rmse:0.44081\u001b[0m\n",
      "\u001b[34m[20]#011train-rmse:0.44458#011validation-rmse:0.44081\u001b[0m\n",
      "\u001b[34m[21]#011train-rmse:0.44458#011validation-rmse:0.44081\u001b[0m\n",
      "\u001b[34m[22]#011train-rmse:0.44458#011validation-rmse:0.44081\u001b[0m\n",
      "\u001b[34m[23]#011train-rmse:0.44458#011validation-rmse:0.44081\u001b[0m\n",
      "\u001b[34m[24]#011train-rmse:0.44458#011validation-rmse:0.44081\u001b[0m\n",
      "\u001b[34m[25]#011train-rmse:0.44458#011validation-rmse:0.44081\u001b[0m\n",
      "\u001b[34m[26]#011train-rmse:0.44457#011validation-rmse:0.44080\u001b[0m\n",
      "\u001b[34m[27]#011train-rmse:0.44457#011validation-rmse:0.44080\u001b[0m\n",
      "\u001b[34m[28]#011train-rmse:0.44457#011validation-rmse:0.44080\u001b[0m\n",
      "\u001b[34m[29]#011train-rmse:0.44458#011validation-rmse:0.44080\u001b[0m\n",
      "\u001b[34m[30]#011train-rmse:0.44458#011validation-rmse:0.44080\u001b[0m\n",
      "\u001b[34m[31]#011train-rmse:0.44457#011validation-rmse:0.44080\u001b[0m\n",
      "\u001b[34m[32]#011train-rmse:0.44457#011validation-rmse:0.44080\u001b[0m\n",
      "\u001b[34m[33]#011train-rmse:0.44457#011validation-rmse:0.44080\u001b[0m\n",
      "\u001b[34m[34]#011train-rmse:0.44457#011validation-rmse:0.44080\u001b[0m\n",
      "\u001b[34m[35]#011train-rmse:0.44457#011validation-rmse:0.44080\u001b[0m\n",
      "\u001b[34m[36]#011train-rmse:0.44457#011validation-rmse:0.44080\u001b[0m\n",
      "\u001b[34m[37]#011train-rmse:0.44457#011validation-rmse:0.44080\u001b[0m\n",
      "\u001b[34m[38]#011train-rmse:0.44457#011validation-rmse:0.44080\u001b[0m\n",
      "\u001b[34m[39]#011train-rmse:0.44457#011validation-rmse:0.44080\u001b[0m\n",
      "\u001b[34m[40]#011train-rmse:0.44457#011validation-rmse:0.44080\u001b[0m\n",
      "\u001b[34m[41]#011train-rmse:0.44457#011validation-rmse:0.44080\u001b[0m\n",
      "\u001b[34m[42]#011train-rmse:0.44457#011validation-rmse:0.44080\u001b[0m\n",
      "\u001b[34m[43]#011train-rmse:0.44457#011validation-rmse:0.44080\u001b[0m\n",
      "\u001b[34m[44]#011train-rmse:0.44457#011validation-rmse:0.44080\u001b[0m\n",
      "\u001b[34m[45]#011train-rmse:0.44457#011validation-rmse:0.44080\u001b[0m\n",
      "\u001b[34m[46]#011train-rmse:0.44457#011validation-rmse:0.44080\u001b[0m\n",
      "\u001b[34m[47]#011train-rmse:0.44457#011validation-rmse:0.44080\u001b[0m\n",
      "\u001b[34m[48]#011train-rmse:0.44457#011validation-rmse:0.44080\u001b[0m\n",
      "\u001b[34m[49]#011train-rmse:0.44457#011validation-rmse:0.44080\u001b[0m\n",
      "\u001b[34m[50]#011train-rmse:0.44457#011validation-rmse:0.44080\u001b[0m\n",
      "\u001b[34m[51]#011train-rmse:0.44457#011validation-rmse:0.44080\u001b[0m\n",
      "\u001b[34m[52]#011train-rmse:0.44457#011validation-rmse:0.44080\u001b[0m\n",
      "\u001b[34m[53]#011train-rmse:0.44457#011validation-rmse:0.44080\u001b[0m\n",
      "\u001b[34m[54]#011train-rmse:0.44457#011validation-rmse:0.44080\u001b[0m\n",
      "\u001b[34m[55]#011train-rmse:0.44457#011validation-rmse:0.44080\u001b[0m\n",
      "\u001b[34m[56]#011train-rmse:0.44457#011validation-rmse:0.44080\u001b[0m\n",
      "\u001b[34m[57]#011train-rmse:0.44457#011validation-rmse:0.44080\u001b[0m\n",
      "\u001b[34m[58]#011train-rmse:0.44457#011validation-rmse:0.44080\u001b[0m\n",
      "\u001b[34m[59]#011train-rmse:0.44457#011validation-rmse:0.44080\u001b[0m\n",
      "\n",
      "2024-09-03 09:58:35 Training - Training image download completed. Training in progress.\n",
      "2024-09-03 09:58:35 Uploading - Uploading generated training model\n",
      "2024-09-03 09:58:35 Completed - Training job completed\n",
      "Training seconds: 105\n",
      "Billable seconds: 105\n"
     ]
    }
   ],
   "source": [
    "from sagemaker.debugger import DebuggerHookConfig, CollectionConfig, Rule, rule_configs\n",
    "\n",
    "\n",
    "rules = [\n",
    "    Rule.sagemaker(rule_configs.overtraining()),  # Detects when the model is overtraining (overfitting)\n",
    "    Rule.sagemaker(rule_configs.loss_not_decreasing()),  # Detects when the loss stops decreasing\n",
    "]\n",
    "\n",
    "# Define Debugger Hook Configuration\n",
    "\n",
    "debugger_hook_config = DebuggerHookConfig(\n",
    "    s3_output_path=f's3://{bucket}/{prefix}/debugger-output',\n",
    "    collection_configs=[\n",
    "        CollectionConfig(name=\"metrics\", parameters={\"save_interval\": \"5\"}),  # Capture metrics every 5 steps\n",
    "    ]\n",
    ")\n",
    "\n",
    "\n",
    "xgboost_estimator_debug = sagemaker.estimator.Estimator(\n",
    "    image_uri=xgboost_container,\n",
    "    hyperparameters=hyperparameters,\n",
    "    role=sagemaker.get_execution_role(),\n",
    "    instance_count=1,\n",
    "    instance_type='ml.m5.xlarge',\n",
    "    volume_size=5,\n",
    "    output_path=output_path,\n",
    "    debugger_hook_config=debugger_hook_config,\n",
    "    rules=rules  # Attach the rules\n",
    ")\n",
    "\n",
    "# Train the model\n",
    "xgboost_estimator_debug.fit({'train': train_input, 'validation': validation_input})\n"
   ]
  },
  {
   "cell_type": "code",
   "execution_count": 85,
   "id": "5fbcf3f2-7f22-4238-b566-604eeab39041",
   "metadata": {},
   "outputs": [
    {
     "name": "stdout",
     "output_type": "stream",
     "text": [
      "Training job status: Completed, Rule Evaluation Status: InProgress\n",
      "Training job status: Completed, Rule Evaluation Status: InProgress\n",
      "Training job status: Completed, Rule Evaluation Status: InProgress\n",
      "Training job status: Completed, Rule Evaluation Status: InProgress\n",
      "Training job status: Completed, Rule Evaluation Status: InProgress\n",
      "Training job status: Completed, Rule Evaluation Status: InProgress\n",
      "Training job status: Completed, Rule Evaluation Status: InProgress\n",
      "Training job status: Completed, Rule Evaluation Status: InProgress\n",
      "Training job status: Completed, Rule Evaluation Status: InProgress\n",
      "Training job status: Completed, Rule Evaluation Status: InProgress\n",
      "Training job status: Completed, Rule Evaluation Status: InProgress\n",
      "Training job status: Completed, Rule Evaluation Status: InProgress\n",
      "Training job status: Completed, Rule Evaluation Status: InProgress\n",
      "Training job status: Completed, Rule Evaluation Status: InProgress\n",
      "Training job status: Completed, Rule Evaluation Status: InProgress\n",
      "Training job status: Completed, Rule Evaluation Status: InProgress\n",
      "Training job status: Completed, Rule Evaluation Status: NoIssuesFound\n",
      "Rule: Overtraining, Status: NoIssuesFound\n",
      "Rule: LossNotDecreasing, Status: IssuesFound\n"
     ]
    }
   ],
   "source": [
    "import time\n",
    "\n",
    "# Monitor the training job and the rule evaluations\n",
    "for _ in range(360):  # Adjust the range based on your expected training duration\n",
    "    job_name = xgboost_estimator_debug.latest_training_job.name\n",
    "    client = xgboost_estimator_debug.sagemaker_session.sagemaker_client\n",
    "    description = client.describe_training_job(TrainingJobName=job_name)\n",
    "    training_job_status = description[\"TrainingJobStatus\"]\n",
    "    rule_job_summary = xgboost_estimator_debug.latest_training_job.rule_job_summary()\n",
    "    rule_evaluation_status = rule_job_summary[0][\"RuleEvaluationStatus\"]\n",
    "    \n",
    "    print(f\"Training job status: {training_job_status}, Rule Evaluation Status: {rule_evaluation_status}\")\n",
    "    \n",
    "    if rule_evaluation_status in [\"Stopped\", \"IssuesFound\", \"NoIssuesFound\"]:\n",
    "        break\n",
    "    \n",
    "    time.sleep(10)  # Poll every 10 seconds\n",
    "\n",
    "# Print the final rule evaluation status\n",
    "rule_summary = xgboost_estimator_debug.latest_training_job.rule_job_summary()\n",
    "for rule in rule_summary:\n",
    "    print(f\"Rule: {rule['RuleConfigurationName']}, Status: {rule['RuleEvaluationStatus']}\")\n"
   ]
  },
  {
   "cell_type": "code",
   "execution_count": null,
   "id": "a5ef96eb-3fba-41b6-a752-e60aed71dbf1",
   "metadata": {},
   "outputs": [],
   "source": [
    "!pip install smdebug"
   ]
  },
  {
   "cell_type": "code",
   "execution_count": 86,
   "id": "7565e403-4f96-4226-9a2c-6c95c95c607d",
   "metadata": {},
   "outputs": [
    {
     "name": "stdout",
     "output_type": "stream",
     "text": [
      "[2024-09-03 10:01:28.895 default:604 INFO s3_trial.py:42] Loading trial debug-output at path s3://sagemaker-ml-28573/debugger/debugger-output/sagemaker-xgboost-2024-09-03-09-55-59-739/debug-output\n"
     ]
    }
   ],
   "source": [
    "from smdebug.trials import create_trial\n",
    "\n",
    "# Load the data from the S3 path where Debugger saved it\n",
    "s3_output_path = xgboost_estimator_debug.latest_job_debugger_artifacts_path()\n",
    "trial = create_trial(s3_output_path)\n"
   ]
  },
  {
   "cell_type": "code",
   "execution_count": 87,
   "id": "c11be3c5-e0eb-42d3-9ab0-31cb88e0135a",
   "metadata": {},
   "outputs": [
    {
     "name": "stdout",
     "output_type": "stream",
     "text": [
      "train-rmse\n",
      "validation-rmse\n"
     ]
    }
   ],
   "source": [
    "for tensor_name in trial.tensor_names():\n",
    "    print(tensor_name)\n"
   ]
  },
  {
   "cell_type": "code",
   "execution_count": 88,
   "id": "f33de45b-188d-4d8d-96e2-75a455350cdd",
   "metadata": {},
   "outputs": [],
   "source": [
    "# Retrieve the train and validation RMSE tensors\n",
    "train_rmse_tensor = trial.tensor('train-rmse')\n",
    "validation_rmse_tensor = trial.tensor('validation-rmse')\n",
    "\n",
    "# Get the steps (epochs) and values for each tensor\n",
    "train_rmse_steps = train_rmse_tensor.steps()\n",
    "train_rmse_values = np.array([train_rmse_tensor.value(step) for step in train_rmse_steps])\n",
    "\n",
    "validation_rmse_steps = validation_rmse_tensor.steps()\n",
    "validation_rmse_values = np.array([validation_rmse_tensor.value(step) for step in validation_rmse_steps])\n"
   ]
  },
  {
   "cell_type": "code",
   "execution_count": 89,
   "id": "3e26a950-f1dd-4201-9267-6163d0e79741",
   "metadata": {},
   "outputs": [
    {
     "data": {
      "image/png": "[encoded data removed]",
      "text/plain": [
       "<Figure size 1000x600 with 1 Axes>"
      ]
     },
     "metadata": {},
     "output_type": "display_data"
    }
   ],
   "source": [
    "import matplotlib.pyplot as plt\n",
    "\n",
    "plt.figure(figsize=(10, 6))\n",
    "\n",
    "# Plot training RMSE\n",
    "plt.plot(train_rmse_steps, train_rmse_values, label='Training RMSE', color='blue')\n",
    "\n",
    "# Plot validation RMSE\n",
    "plt.plot(validation_rmse_steps, validation_rmse_values, label='Validation RMSE', color='red')\n",
    "\n",
    "# Add labels and title\n",
    "plt.xlabel('Training Step (Epoch)')\n",
    "plt.ylabel('RMSE')\n",
    "plt.title('Learning Curves: Training vs Validation RMSE')\n",
    "plt.legend()\n",
    "\n",
    "# Show the plot\n",
    "plt.show()\n"
   ]
  },
  {
   "cell_type": "code",
   "execution_count": 90,
   "id": "44458e28-ab4e-4f62-bed6-ea5366fc52c6",
   "metadata": {},
   "outputs": [
    {
     "name": "stdout",
     "output_type": "stream",
     "text": [
      "Train RMSE Steps: [0, 5, 10, 15, 20, 25, 30, 35, 40, 45, 50, 55]\n",
      "Train RMSE Values: [[0.47846699]\n",
      " [0.46362741]\n",
      " [0.4620554 ]\n",
      " [0.4618795 ]\n",
      " [0.44457662]\n",
      " [0.44457671]\n",
      " [0.44457516]\n",
      " [0.44457311]\n",
      " [0.44457307]\n",
      " [0.44457307]\n",
      " [0.44457321]\n",
      " [0.44457324]]\n",
      "Validation RMSE Steps: [0, 5, 10, 15, 20, 25, 30, 35, 40, 45, 50, 55]\n",
      "Validation RMSE Values: [[0.47677623]\n",
      " [0.46178845]\n",
      " [0.46018003]\n",
      " [0.45999307]\n",
      " [0.44080658]\n",
      " [0.44080672]\n",
      " [0.44080406]\n",
      " [0.44079902]\n",
      " [0.44079836]\n",
      " [0.44079861]\n",
      " [0.44079773]\n",
      " [0.44079768]]\n"
     ]
    }
   ],
   "source": [
    "# Print the contents to verify\n",
    "print(\"Train RMSE Steps:\", train_rmse_steps)\n",
    "print(\"Train RMSE Values:\", train_rmse_values)\n",
    "\n",
    "print(\"Validation RMSE Steps:\", validation_rmse_steps)\n",
    "print(\"Validation RMSE Values:\", validation_rmse_values)\n"
   ]
  },
  {
   "cell_type": "code",
   "execution_count": 91,
   "id": "d94192de-a83e-4ccd-8f24-470186bd8c76",
   "metadata": {},
   "outputs": [],
   "source": [
    "# Initialize hyperparameters\n",
    "hyperparameters = {\n",
    "        \"max_depth\":\"5\", # lower depth\n",
    "        \"eta\":\"0.2\",\n",
    "        \"gamma\":\"5\", # change value here\n",
    "        \"min_child_weight\":\"6\",\n",
    "        \"subsample\":\"0.5\", # lower value\n",
    "        \"objective\":\"reg:squarederror\",\n",
    "        \"num_round\":\"60\"}"
   ]
  },
  {
   "cell_type": "code",
   "execution_count": 92,
   "id": "94381aa4-52d0-4fdd-8807-fb5e74d2bd20",
   "metadata": {},
   "outputs": [
    {
     "name": "stderr",
     "output_type": "stream",
     "text": [
      "INFO:sagemaker.image_uris:Defaulting to the only supported framework/algorithm version: latest.\n",
      "INFO:sagemaker.image_uris:Ignoring unnecessary instance type: None.\n",
      "INFO:sagemaker.image_uris:Defaulting to the only supported framework/algorithm version: latest.\n",
      "INFO:sagemaker.image_uris:Ignoring unnecessary instance type: None.\n",
      "INFO:sagemaker:Creating training-job with name: sagemaker-xgboost-2024-09-03-10-01-32-452\n"
     ]
    },
    {
     "name": "stdout",
     "output_type": "stream",
     "text": [
      "2024-09-03 10:01:34 Starting - Starting the training job...\n",
      "2024-09-03 10:01:58 Starting - Preparing the instances for trainingOvertraining: InProgress\n",
      "LossNotDecreasing: InProgress\n",
      "...\n",
      "2024-09-03 10:02:20 Downloading - Downloading input data...\n",
      "2024-09-03 10:02:58 Downloading - Downloading the training image...\n",
      "2024-09-03 10:03:36 Training - Training image download completed. Training in progress...\u001b[34m[2024-09-03 10:03:43.734 ip-10-0-135-246.ec2.internal:7 INFO utils.py:28] RULE_JOB_STOP_SIGNAL_FILENAME: None\u001b[0m\n",
      "\u001b[34m[2024-09-03 10:03:43.759 ip-10-0-135-246.ec2.internal:7 INFO profiler_config_parser.py:111] User has disabled profiler.\u001b[0m\n",
      "\u001b[34m[2024-09-03:10:03:44:INFO] Imported framework sagemaker_xgboost_container.training\u001b[0m\n",
      "\u001b[34m[2024-09-03:10:03:44:INFO] Failed to parse hyperparameter objective value reg:squarederror to Json.\u001b[0m\n",
      "\u001b[34mReturning the value itself\u001b[0m\n",
      "\u001b[34m[2024-09-03:10:03:44:INFO] No GPUs detected (normal if no gpus installed)\u001b[0m\n",
      "\u001b[34m[2024-09-03:10:03:44:INFO] Running XGBoost Sagemaker in algorithm mode\u001b[0m\n",
      "\u001b[34m[2024-09-03:10:03:44:INFO] Determined 0 GPU(s) available on the instance.\u001b[0m\n",
      "\u001b[34m[2024-09-03:10:03:44:INFO] Determined delimiter of CSV input is ','\u001b[0m\n",
      "\u001b[34m[2024-09-03:10:03:44:INFO] Determined delimiter of CSV input is ','\u001b[0m\n",
      "\u001b[34m[2024-09-03:10:03:44:INFO] File path /opt/ml/input/data/train of input files\u001b[0m\n",
      "\u001b[34m[2024-09-03:10:03:44:INFO] Making smlinks from folder /opt/ml/input/data/train to folder /tmp/sagemaker_xgboost_input_data\u001b[0m\n",
      "\u001b[34m[2024-09-03:10:03:44:INFO] creating symlink between Path /opt/ml/input/data/train/train.csv and destination /tmp/sagemaker_xgboost_input_data/train.csv-6211574089024394085\u001b[0m\n",
      "\u001b[34m[2024-09-03:10:03:44:INFO] files path: /tmp/sagemaker_xgboost_input_data\u001b[0m\n",
      "\u001b[34m[2024-09-03:10:03:44:INFO] Determined delimiter of CSV input is ','\u001b[0m\n",
      "\u001b[34m[2024-09-03:10:03:44:INFO] File path /opt/ml/input/data/validation of input files\u001b[0m\n",
      "\u001b[34m[2024-09-03:10:03:44:INFO] Making smlinks from folder /opt/ml/input/data/validation to folder /tmp/sagemaker_xgboost_input_data\u001b[0m\n",
      "\u001b[34m[2024-09-03:10:03:44:INFO] creating symlink between Path /opt/ml/input/data/validation/validation.csv and destination /tmp/sagemaker_xgboost_input_data/validation.csv2752637501360314225\u001b[0m\n",
      "\u001b[34m[2024-09-03:10:03:44:INFO] files path: /tmp/sagemaker_xgboost_input_data\u001b[0m\n",
      "\u001b[34m[2024-09-03:10:03:44:INFO] Determined delimiter of CSV input is ','\u001b[0m\n",
      "\u001b[34m[2024-09-03:10:03:44:INFO] Single node training.\u001b[0m\n",
      "\u001b[34m[2024-09-03:10:03:44:INFO] Train matrix has 3723 rows and 8 columns\u001b[0m\n",
      "\u001b[34m[2024-09-03:10:03:44:INFO] Validation matrix has 932 rows\u001b[0m\n",
      "\u001b[34m[2024-09-03 10:03:44.174 ip-10-0-135-246.ec2.internal:7 INFO json_config.py:92] Creating hook from json_config at /opt/ml/input/config/debughookconfig.json.\u001b[0m\n",
      "\u001b[34m[2024-09-03 10:03:44.174 ip-10-0-135-246.ec2.internal:7 INFO hook.py:206] tensorboard_dir has not been set for the hook. SMDebug will not be exporting tensorboard summaries.\u001b[0m\n",
      "\u001b[34m[2024-09-03 10:03:44.175 ip-10-0-135-246.ec2.internal:7 INFO hook.py:259] Saving to /opt/ml/output/tensors\u001b[0m\n",
      "\u001b[34m[2024-09-03 10:03:44.175 ip-10-0-135-246.ec2.internal:7 INFO state_store.py:77] The checkpoint config file /opt/ml/input/config/checkpointconfig.json does not exist.\u001b[0m\n",
      "\u001b[34m[2024-09-03:10:03:44:INFO] Debug hook created from config\u001b[0m\n",
      "\u001b[34m[0]#011train-rmse:0.45803#011validation-rmse:0.45371\u001b[0m\n",
      "\u001b[34m[2024-09-03 10:03:44.181 ip-10-0-135-246.ec2.internal:7 INFO hook.py:427] Monitoring the collections: metrics, losses\u001b[0m\n",
      "\u001b[34m[2024-09-03 10:03:44.185 ip-10-0-135-246.ec2.internal:7 INFO hook.py:491] Hook is writing from the hook with pid: 7\u001b[0m\n",
      "\u001b[34m[1]#011train-rmse:0.42686#011validation-rmse:0.42019\u001b[0m\n",
      "\u001b[34m[2]#011train-rmse:0.40783#011validation-rmse:0.39873\u001b[0m\n",
      "\u001b[34m[3]#011train-rmse:0.39510#011validation-rmse:0.38445\u001b[0m\n",
      "\u001b[34m[4]#011train-rmse:0.38294#011validation-rmse:0.37054\u001b[0m\n",
      "\u001b[34m[5]#011train-rmse:0.37670#011validation-rmse:0.36377\u001b[0m\n",
      "\u001b[34m[6]#011train-rmse:0.36982#011validation-rmse:0.35573\u001b[0m\n",
      "\u001b[34m[7]#011train-rmse:0.36951#011validation-rmse:0.35537\u001b[0m\n",
      "\u001b[34m[8]#011train-rmse:0.36606#011validation-rmse:0.35127\u001b[0m\n",
      "\u001b[34m[9]#011train-rmse:0.36594#011validation-rmse:0.35110\u001b[0m\n",
      "\u001b[34m[10]#011train-rmse:0.36582#011validation-rmse:0.35095\u001b[0m\n",
      "\u001b[34m[11]#011train-rmse:0.36574#011validation-rmse:0.35084\u001b[0m\n",
      "\u001b[34m[12]#011train-rmse:0.36565#011validation-rmse:0.35072\u001b[0m\n",
      "\u001b[34m[13]#011train-rmse:0.36563#011validation-rmse:0.35067\u001b[0m\n",
      "\u001b[34m[14]#011train-rmse:0.36559#011validation-rmse:0.35060\u001b[0m\n",
      "\u001b[34m[15]#011train-rmse:0.36559#011validation-rmse:0.35059\u001b[0m\n",
      "\u001b[34m[16]#011train-rmse:0.36558#011validation-rmse:0.35059\u001b[0m\n",
      "\u001b[34m[17]#011train-rmse:0.36558#011validation-rmse:0.35056\u001b[0m\n",
      "\u001b[34m[18]#011train-rmse:0.36558#011validation-rmse:0.35056\u001b[0m\n",
      "\u001b[34m[19]#011train-rmse:0.36558#011validation-rmse:0.35054\u001b[0m\n",
      "\u001b[34m[20]#011train-rmse:0.36559#011validation-rmse:0.35053\u001b[0m\n",
      "\u001b[34m[21]#011train-rmse:0.36558#011validation-rmse:0.35054\u001b[0m\n",
      "\u001b[34m[22]#011train-rmse:0.36558#011validation-rmse:0.35054\u001b[0m\n",
      "\u001b[34m[23]#011train-rmse:0.36558#011validation-rmse:0.35056\u001b[0m\n",
      "\u001b[34m[24]#011train-rmse:0.36558#011validation-rmse:0.35056\u001b[0m\n",
      "\u001b[34m[25]#011train-rmse:0.36558#011validation-rmse:0.35055\u001b[0m\n",
      "\u001b[34m[26]#011train-rmse:0.36558#011validation-rmse:0.35055\u001b[0m\n",
      "\u001b[34m[27]#011train-rmse:0.36558#011validation-rmse:0.35054\u001b[0m\n",
      "\u001b[34m[28]#011train-rmse:0.36302#011validation-rmse:0.34707\u001b[0m\n",
      "\u001b[34m[29]#011train-rmse:0.36302#011validation-rmse:0.34707\u001b[0m\n",
      "\u001b[34m[30]#011train-rmse:0.36302#011validation-rmse:0.34711\u001b[0m\n",
      "\u001b[34m[31]#011train-rmse:0.36303#011validation-rmse:0.34714\u001b[0m\n",
      "\u001b[34m[32]#011train-rmse:0.36304#011validation-rmse:0.34715\u001b[0m\n",
      "\u001b[34m[33]#011train-rmse:0.36304#011validation-rmse:0.34715\u001b[0m\n",
      "\u001b[34m[34]#011train-rmse:0.36303#011validation-rmse:0.34712\u001b[0m\n",
      "\u001b[34m[35]#011train-rmse:0.36303#011validation-rmse:0.34713\u001b[0m\n",
      "\u001b[34m[36]#011train-rmse:0.36303#011validation-rmse:0.34713\u001b[0m\n",
      "\u001b[34m[37]#011train-rmse:0.36303#011validation-rmse:0.34712\u001b[0m\n",
      "\u001b[34m[38]#011train-rmse:0.36302#011validation-rmse:0.34712\u001b[0m\n",
      "\u001b[34m[39]#011train-rmse:0.36301#011validation-rmse:0.34708\u001b[0m\n",
      "\u001b[34m[40]#011train-rmse:0.36302#011validation-rmse:0.34709\u001b[0m\n",
      "\u001b[34m[41]#011train-rmse:0.36302#011validation-rmse:0.34709\u001b[0m\n",
      "\u001b[34m[42]#011train-rmse:0.36302#011validation-rmse:0.34711\u001b[0m\n",
      "\u001b[34m[43]#011train-rmse:0.36302#011validation-rmse:0.34709\u001b[0m\n",
      "\u001b[34m[44]#011train-rmse:0.36301#011validation-rmse:0.34708\u001b[0m\n",
      "\u001b[34m[45]#011train-rmse:0.36301#011validation-rmse:0.34709\u001b[0m\n",
      "\u001b[34m[46]#011train-rmse:0.36302#011validation-rmse:0.34711\u001b[0m\n",
      "\u001b[34m[47]#011train-rmse:0.36304#011validation-rmse:0.34715\u001b[0m\n",
      "\u001b[34m[48]#011train-rmse:0.36303#011validation-rmse:0.34714\u001b[0m\n",
      "\u001b[34m[49]#011train-rmse:0.36302#011validation-rmse:0.34711\u001b[0m\n",
      "\u001b[34m[50]#011train-rmse:0.36302#011validation-rmse:0.34711\u001b[0m\n",
      "\u001b[34m[51]#011train-rmse:0.36302#011validation-rmse:0.34709\u001b[0m\n",
      "\u001b[34m[52]#011train-rmse:0.36302#011validation-rmse:0.34707\u001b[0m\n",
      "\u001b[34m[53]#011train-rmse:0.36301#011validation-rmse:0.34708\u001b[0m\n",
      "\u001b[34m[54]#011train-rmse:0.36302#011validation-rmse:0.34707\u001b[0m\n",
      "\u001b[34m[55]#011train-rmse:0.36302#011validation-rmse:0.34707\u001b[0m\n",
      "\u001b[34m[56]#011train-rmse:0.36302#011validation-rmse:0.34707\u001b[0m\n",
      "\u001b[34m[57]#011train-rmse:0.36301#011validation-rmse:0.34708\u001b[0m\n",
      "\u001b[34m[58]#011train-rmse:0.36302#011validation-rmse:0.34709\u001b[0m\n",
      "\u001b[34m[59]#011train-rmse:0.36301#011validation-rmse:0.34709\u001b[0m\n",
      "\n",
      "2024-09-03 10:04:00 Uploading - Uploading generated training model\n",
      "2024-09-03 10:04:00 Completed - Training job completed\n",
      "Training seconds: 100\n",
      "Billable seconds: 100\n"
     ]
    }
   ],
   "source": [
    "from sagemaker.debugger import DebuggerHookConfig, CollectionConfig, Rule, rule_configs\n",
    "\n",
    "\n",
    "rules = [\n",
    "    Rule.sagemaker(rule_configs.overtraining()),  # Detects when the model is overtraining (overfitting)\n",
    "    Rule.sagemaker(rule_configs.loss_not_decreasing()),  # Detects when the loss stops decreasing\n",
    "]\n",
    "\n",
    "# Define Debugger Hook Configuration\n",
    "\n",
    "debugger_hook_config = DebuggerHookConfig(\n",
    "    s3_output_path=f's3://{bucket}/{prefix}/debugger-output',\n",
    "    collection_configs=[\n",
    "        CollectionConfig(name=\"metrics\", parameters={\"save_interval\": \"5\"}),  # Capture metrics every 5 steps\n",
    "    ]\n",
    ")\n",
    "\n",
    "\n",
    "xgboost_estimator_debug = sagemaker.estimator.Estimator(\n",
    "    image_uri=xgboost_container,\n",
    "    hyperparameters=hyperparameters,\n",
    "    role=sagemaker.get_execution_role(),\n",
    "    instance_count=1,\n",
    "    instance_type='ml.m5.xlarge',\n",
    "    volume_size=5,\n",
    "    output_path=output_path,\n",
    "    debugger_hook_config=debugger_hook_config,\n",
    "    rules=rules  # Attach the rules\n",
    ")\n",
    "\n",
    "# Train the model\n",
    "xgboost_estimator_debug.fit({'train': train_input, 'validation': validation_input})\n"
   ]
  },
  {
   "cell_type": "code",
   "execution_count": null,
   "id": "c4a41955-4bfb-4df3-8a25-f3dfb3fc7517",
   "metadata": {},
   "outputs": [],
   "source": []
  },
  {
   "cell_type": "code",
   "execution_count": 93,
   "id": "e73522e6-d17a-43ac-bf41-795d68498e60",
   "metadata": {},
   "outputs": [
    {
     "name": "stdout",
     "output_type": "stream",
     "text": [
      "Training job status: Completed, Rule Evaluation Status: InProgress\n",
      "Training job status: Completed, Rule Evaluation Status: InProgress\n",
      "Training job status: Completed, Rule Evaluation Status: InProgress\n",
      "Training job status: Completed, Rule Evaluation Status: InProgress\n",
      "Training job status: Completed, Rule Evaluation Status: InProgress\n",
      "Training job status: Completed, Rule Evaluation Status: InProgress\n",
      "Training job status: Completed, Rule Evaluation Status: InProgress\n",
      "Training job status: Completed, Rule Evaluation Status: InProgress\n",
      "Training job status: Completed, Rule Evaluation Status: InProgress\n",
      "Training job status: Completed, Rule Evaluation Status: InProgress\n",
      "Training job status: Completed, Rule Evaluation Status: InProgress\n",
      "Training job status: Completed, Rule Evaluation Status: InProgress\n",
      "Training job status: Completed, Rule Evaluation Status: InProgress\n",
      "Training job status: Completed, Rule Evaluation Status: InProgress\n",
      "Training job status: Completed, Rule Evaluation Status: NoIssuesFound\n",
      "Rule: Overtraining, Status: NoIssuesFound\n",
      "Rule: LossNotDecreasing, Status: IssuesFound\n"
     ]
    }
   ],
   "source": [
    "import time\n",
    "\n",
    "# Monitor the training job and the rule evaluations\n",
    "for _ in range(360):  # Adjust the range based on your expected training duration\n",
    "    job_name = xgboost_estimator_debug.latest_training_job.name\n",
    "    client = xgboost_estimator_debug.sagemaker_session.sagemaker_client\n",
    "    description = client.describe_training_job(TrainingJobName=job_name)\n",
    "    training_job_status = description[\"TrainingJobStatus\"]\n",
    "    rule_job_summary = xgboost_estimator_debug.latest_training_job.rule_job_summary()\n",
    "    rule_evaluation_status = rule_job_summary[0][\"RuleEvaluationStatus\"]\n",
    "    \n",
    "    print(f\"Training job status: {training_job_status}, Rule Evaluation Status: {rule_evaluation_status}\")\n",
    "    \n",
    "    if rule_evaluation_status in [\"Stopped\", \"IssuesFound\", \"NoIssuesFound\"]:\n",
    "        break\n",
    "    \n",
    "    time.sleep(10)  # Poll every 10 seconds\n",
    "\n",
    "# Print the final rule evaluation status\n",
    "rule_summary = xgboost_estimator_debug.latest_training_job.rule_job_summary()\n",
    "for rule in rule_summary:\n",
    "    print(f\"Rule: {rule['RuleConfigurationName']}, Status: {rule['RuleEvaluationStatus']}\")\n"
   ]
  },
  {
   "cell_type": "code",
   "execution_count": 30,
   "id": "a7f9bf40-9875-49a2-aa8d-89dbbec18088",
   "metadata": {},
   "outputs": [
    {
     "name": "stdout",
     "output_type": "stream",
     "text": [
      "Requirement already satisfied: smdebug in /opt/conda/lib/python3.10/site-packages (1.0.34)\n",
      "Requirement already satisfied: protobuf<=3.20.3,>=3.20.0 in /opt/conda/lib/python3.10/site-packages (from smdebug) (3.20.3)\n",
      "Requirement already satisfied: numpy>=1.16.0 in /opt/conda/lib/python3.10/site-packages (from smdebug) (1.26.4)\n",
      "Requirement already satisfied: packaging in /opt/conda/lib/python3.10/site-packages (from smdebug) (24.1)\n",
      "Requirement already satisfied: boto3>=1.10.32 in /opt/conda/lib/python3.10/site-packages (from smdebug) (1.34.131)\n",
      "Requirement already satisfied: pyinstrument==3.4.2 in /opt/conda/lib/python3.10/site-packages (from smdebug) (3.4.2)\n",
      "Requirement already satisfied: pyinstrument-cext>=0.2.2 in /opt/conda/lib/python3.10/site-packages (from pyinstrument==3.4.2->smdebug) (0.2.4)\n",
      "Requirement already satisfied: botocore<1.35.0,>=1.34.131 in /opt/conda/lib/python3.10/site-packages (from boto3>=1.10.32->smdebug) (1.34.131)\n",
      "Requirement already satisfied: jmespath<2.0.0,>=0.7.1 in /opt/conda/lib/python3.10/site-packages (from boto3>=1.10.32->smdebug) (1.0.1)\n",
      "Requirement already satisfied: s3transfer<0.11.0,>=0.10.0 in /opt/conda/lib/python3.10/site-packages (from boto3>=1.10.32->smdebug) (0.10.2)\n",
      "Requirement already satisfied: python-dateutil<3.0.0,>=2.1 in /opt/conda/lib/python3.10/site-packages (from botocore<1.35.0,>=1.34.131->boto3>=1.10.32->smdebug) (2.9.0)\n",
      "Requirement already satisfied: urllib3!=2.2.0,<3,>=1.25.4 in /opt/conda/lib/python3.10/site-packages (from botocore<1.35.0,>=1.34.131->boto3>=1.10.32->smdebug) (1.26.19)\n",
      "Requirement already satisfied: six>=1.5 in /opt/conda/lib/python3.10/site-packages (from python-dateutil<3.0.0,>=2.1->botocore<1.35.0,>=1.34.131->boto3>=1.10.32->smdebug) (1.16.0)\n"
     ]
    }
   ],
   "source": [
    "!pip install smdebug"
   ]
  },
  {
   "cell_type": "code",
   "execution_count": 94,
   "id": "b4e2a4c0-995c-4c47-9ffd-5a615699a896",
   "metadata": {},
   "outputs": [
    {
     "name": "stdout",
     "output_type": "stream",
     "text": [
      "[2024-09-03 10:06:41.053 default:604 INFO s3_trial.py:42] Loading trial debug-output at path s3://sagemaker-ml-28573/debugger/debugger-output/sagemaker-xgboost-2024-09-03-10-01-32-452/debug-output\n"
     ]
    }
   ],
   "source": [
    "from smdebug.trials import create_trial\n",
    "\n",
    "# Load the data from the S3 path where Debugger saved it\n",
    "s3_output_path = xgboost_estimator_debug.latest_job_debugger_artifacts_path()\n",
    "trial = create_trial(s3_output_path)\n"
   ]
  },
  {
   "cell_type": "code",
   "execution_count": 95,
   "id": "616780ad-dfc6-4ed7-8159-e92001469ad5",
   "metadata": {},
   "outputs": [
    {
     "name": "stdout",
     "output_type": "stream",
     "text": [
      "train-rmse\n",
      "validation-rmse\n"
     ]
    }
   ],
   "source": [
    "for tensor_name in trial.tensor_names():\n",
    "    print(tensor_name)\n"
   ]
  },
  {
   "cell_type": "code",
   "execution_count": 96,
   "id": "3ed4eb5f-a6b8-4bc7-a8da-95fedf59d957",
   "metadata": {},
   "outputs": [],
   "source": [
    "# Retrieve the train and validation RMSE tensors\n",
    "train_rmse_tensor = trial.tensor('train-rmse')\n",
    "validation_rmse_tensor = trial.tensor('validation-rmse')\n",
    "\n",
    "# Get the steps (epochs) and values for each tensor\n",
    "train_rmse_steps = train_rmse_tensor.steps()\n",
    "train_rmse_values = np.array([train_rmse_tensor.value(step) for step in train_rmse_steps])\n",
    "\n",
    "validation_rmse_steps = validation_rmse_tensor.steps()\n",
    "validation_rmse_values = np.array([validation_rmse_tensor.value(step) for step in validation_rmse_steps])\n"
   ]
  },
  {
   "cell_type": "code",
   "execution_count": 97,
   "id": "46981eca-9546-47c0-b5ed-bb3a9acc4d2f",
   "metadata": {},
   "outputs": [
    {
     "data": {
      "image/png": "[encoded data removed]",
      "text/plain": [
       "<Figure size 1000x600 with 1 Axes>"
      ]
     },
     "metadata": {},
     "output_type": "display_data"
    }
   ],
   "source": [
    "import matplotlib.pyplot as plt\n",
    "\n",
    "plt.figure(figsize=(10, 6))\n",
    "\n",
    "# Plot training RMSE\n",
    "plt.plot(train_rmse_steps, train_rmse_values, label='Training RMSE', color='blue')\n",
    "\n",
    "# Plot validation RMSE\n",
    "plt.plot(validation_rmse_steps, validation_rmse_values, label='Validation RMSE', color='red')\n",
    "\n",
    "# Add labels and title\n",
    "plt.xlabel('Training Step (Epoch)')\n",
    "plt.ylabel('RMSE')\n",
    "plt.title('Learning Curves: Training vs Validation RMSE')\n",
    "plt.legend()\n",
    "\n",
    "# Show the plot\n",
    "plt.show()\n"
   ]
  },
  {
   "cell_type": "code",
   "execution_count": 98,
   "id": "07e37b88-598c-4c18-b09c-50382e0979c9",
   "metadata": {},
   "outputs": [
    {
     "name": "stdout",
     "output_type": "stream",
     "text": [
      "Train RMSE Steps: [0, 5, 10, 15, 20, 25, 30, 35, 40, 45, 50, 55]\n",
      "Train RMSE Values: [[0.45803475]\n",
      " [0.37670372]\n",
      " [0.36582111]\n",
      " [0.36558543]\n",
      " [0.3655869 ]\n",
      " [0.36557636]\n",
      " [0.36302102]\n",
      " [0.36302919]\n",
      " [0.36301551]\n",
      " [0.36301454]\n",
      " [0.36302018]\n",
      " [0.36302051]]\n",
      "Validation RMSE Steps: [0, 5, 10, 15, 20, 25, 30, 35, 40, 45, 50, 55]\n",
      "Validation RMSE Values: [[0.4537078 ]\n",
      " [0.36377222]\n",
      " [0.35095253]\n",
      " [0.35059081]\n",
      " [0.35053421]\n",
      " [0.35054948]\n",
      " [0.34711191]\n",
      " [0.34713209]\n",
      " [0.34709224]\n",
      " [0.34708502]\n",
      " [0.3471095 ]\n",
      " [0.34706539]]\n"
     ]
    }
   ],
   "source": [
    "# Print the contents to verify\n",
    "print(\"Train RMSE Steps:\", train_rmse_steps)\n",
    "print(\"Train RMSE Values:\", train_rmse_values)\n",
    "\n",
    "print(\"Validation RMSE Steps:\", validation_rmse_steps)\n",
    "print(\"Validation RMSE Values:\", validation_rmse_values)\n"
   ]
  },
  {
   "cell_type": "code",
   "execution_count": 78,
   "id": "864cdda4-a015-4fe6-8fd5-525044716078",
   "metadata": {
    "scrolled": true
   },
   "outputs": [
    {
     "name": "stderr",
     "output_type": "stream",
     "text": [
      "INFO:sagemaker:Creating model with name: sagemaker-xgboost-2024-09-03-09-52-26-691\n",
      "INFO:sagemaker:Creating endpoint-config with name sagemaker-xgboost-2024-09-03-09-52-26-691\n",
      "INFO:sagemaker:Creating endpoint with name sagemaker-xgboost-2024-09-03-09-52-26-691\n"
     ]
    },
    {
     "name": "stdout",
     "output_type": "stream",
     "text": [
      "------!"
     ]
    }
   ],
   "source": [
    "# Deploy model\n",
    "\n",
    "predictor = estimator.deploy(\n",
    "    initial_instance_count=1,\n",
    "    instance_type='ml.m5.xlarge'\n",
    ")\n"
   ]
  },
  {
   "cell_type": "code",
   "execution_count": 79,
   "id": "bea8fabd-36e2-4659-8bdc-d2fb10cb04e4",
   "metadata": {},
   "outputs": [],
   "source": [
    "# Import necessary libraries\n",
    "import numpy as np\n",
    "import pandas as pd\n",
    "from sklearn.metrics import confusion_matrix, classification_report, accuracy_score\n",
    "\n",
    "# Set up the predictor\n",
    "predictor.content_type = \"text/csv\"\n",
    "predictor.serializer = sagemaker.serializers.CSVSerializer()\n",
    "predictor.deserializer = sagemaker.deserializers.JSONDeserializer()\n"
   ]
  },
  {
   "cell_type": "code",
   "execution_count": 80,
   "id": "2cd8a1b4-3330-4943-934a-a3faa221a573",
   "metadata": {},
   "outputs": [],
   "source": [
    "# Define a function to make predictions\n",
    "def predict(data, predictor, rows=500):\n",
    "    # Split the test data into mini-batches of rows\n",
    "    split_array = np.array_split(data, int(data.shape[0] / float(rows) + 1))\n",
    "    \n",
    "    # Initialize an empty list for predictions\n",
    "    predictions = []\n",
    "    \n",
    "    # Iterate through the mini-batches and make predictions\n",
    "    for array in split_array:\n",
    "        # Make a prediction for the mini-batch\n",
    "        pred = predictor.predict(array)\n",
    "        \n",
    "        # Assuming pred is a dictionary, extract the prediction values\n",
    "        if isinstance(pred, dict):\n",
    "            pred_values = pred.get(\"predictions\", [])\n",
    "            \n",
    "            # If predictions are a list of dictionaries, extract the values\n",
    "            if isinstance(pred_values, list):\n",
    "                for value in pred_values:\n",
    "                    if isinstance(value, dict):\n",
    "                        # Assuming each dictionary has a key that holds the actual prediction\n",
    "                        predictions.append(value.get(\"predicted_label\", value.get(\"score\", 0.0)))\n",
    "                    else:\n",
    "                        predictions.append(value)\n",
    "        else:\n",
    "            predictions.append(pred)\n",
    "\n",
    "    # Convert the list of predictions directly to a NumPy array\n",
    "    return np.array(predictions, dtype=float)\n",
    "\n",
    "# Load your test data into a NumPy array (assuming your test data is a Pandas DataFrame)\n",
    "test_df_np = test_df.to_numpy()\n",
    "\n",
    "# Separate the target variable (assumed to be in the first column) from the features\n",
    "actual = test_df_np[:, 0]   # First column is the target\n",
    "features = test_df_np[:, 1:]  # Remaining columns are the features\n",
    "\n",
    "# Make predictions on the features only\n",
    "predictions = predict(features, predictor)\n",
    "\n",
    "# Since this is binary classification, round the predictions\n",
    "predictions_rounded = np.round(predictions)\n"
   ]
  },
  {
   "cell_type": "code",
   "execution_count": null,
   "id": "6ba9f1ba-79a2-477e-a798-89a0a4f1680b",
   "metadata": {},
   "outputs": [],
   "source": []
  },
  {
   "cell_type": "code",
   "execution_count": 100,
   "id": "3f8f8c58-3772-4f58-b936-21220b8b8e34",
   "metadata": {
    "scrolled": true
   },
   "outputs": [
    {
     "name": "stdout",
     "output_type": "stream",
     "text": [
      "Confusion Matrix:\n",
      " [[610   0]\n",
      " [240  81]]\n",
      "\n",
      "Classification Report:\n",
      "               precision    recall  f1-score   support\n",
      "\n",
      "           0       0.72      1.00      0.84       610\n",
      "           1       1.00      0.25      0.40       321\n",
      "\n",
      "    accuracy                           0.74       931\n",
      "   macro avg       0.86      0.63      0.62       931\n",
      "weighted avg       0.81      0.74      0.69       931\n",
      "\n",
      "\n",
      "Accuracy Score: 0.7422126745435016\n"
     ]
    }
   ],
   "source": [
    "# Evaluate the model\n",
    "conf_matrix = confusion_matrix(actual, predictions_rounded)\n",
    "class_report = classification_report(actual, predictions_rounded)\n",
    "accuracy = accuracy_score(actual, predictions_rounded)\n",
    "\n",
    "# Print the evaluation results\n",
    "print(\"Confusion Matrix:\\n\", conf_matrix)\n",
    "print(\"\\nClassification Report:\\n\", class_report)\n",
    "print(\"\\nAccuracy Score:\", accuracy)"
   ]
  },
  {
   "cell_type": "code",
   "execution_count": null,
   "id": "7526a846-ea52-46c5-b3dd-a0d790916a8e",
   "metadata": {},
   "outputs": [],
   "source": [
    "!pip install seaborn"
   ]
  },
  {
   "cell_type": "code",
   "execution_count": 83,
   "id": "c6a2daca-4a79-4d5e-be45-523165e8765e",
   "metadata": {
    "scrolled": true
   },
   "outputs": [
    {
     "data": {
      "image/png": "[encoded data removed]",
      "text/plain": [
       "<Figure size 800x600 with 1 Axes>"
      ]
     },
     "metadata": {},
     "output_type": "display_data"
    }
   ],
   "source": [
    "import numpy as np\n",
    "import matplotlib.pyplot as plt\n",
    "import seaborn as sns\n",
    "from sklearn.metrics import confusion_matrix, roc_curve, auc, precision_recall_curve\n",
    "\n",
    "# Assume predictions_rounded and actual are already available\n",
    "# actual = test_df_np[:, 0]  # Assuming the first column is the actual target\n",
    "\n",
    "# Confusion Matrix\n",
    "conf_matrix = confusion_matrix(actual, predictions_rounded)\n",
    "\n",
    "plt.figure(figsize=(8, 6))\n",
    "sns.heatmap(conf_matrix, annot=True, fmt='d', cmap='Blues', cbar=False)\n",
    "plt.title('Confusion Matrix')\n",
    "plt.xlabel('Predicted Label')\n",
    "plt.ylabel('True Label')\n",
    "plt.show()\n",
    "\n"
   ]
  },
  {
   "cell_type": "code",
   "execution_count": 84,
   "id": "8557c46a-bf3c-45f0-bf60-f2a5f6205861",
   "metadata": {},
   "outputs": [
    {
     "name": "stderr",
     "output_type": "stream",
     "text": [
      "INFO:sagemaker.image_uris:Defaulting to the only supported framework/algorithm version: latest.\n",
      "INFO:sagemaker.image_uris:Ignoring unnecessary instance type: None.\n",
      "INFO:sagemaker.image_uris:Defaulting to the only supported framework/algorithm version: latest.\n",
      "INFO:sagemaker.image_uris:Ignoring unnecessary instance type: None.\n",
      "INFO:sagemaker:Creating training-job with name: sagemaker-xgboost-2024-09-03-09-55-59-739\n"
     ]
    },
    {
     "name": "stdout",
     "output_type": "stream",
     "text": [
      "2024-09-03 09:56:00 Starting - Starting the training job...\n",
      "2024-09-03 09:56:27 Starting - Preparing the instances for trainingOvertraining: InProgress\n",
      "LossNotDecreasing: InProgress\n",
      "...\n",
      "2024-09-03 09:56:58 Downloading - Downloading input data...\n",
      "2024-09-03 09:57:20 Downloading - Downloading the training image.....\u001b[34m[2024-09-03 09:58:17.020 ip-10-2-201-49.ec2.internal:7 INFO utils.py:28] RULE_JOB_STOP_SIGNAL_FILENAME: None\u001b[0m\n",
      "\u001b[34m[2024-09-03 09:58:17.042 ip-10-2-201-49.ec2.internal:7 INFO profiler_config_parser.py:111] User has disabled profiler.\u001b[0m\n",
      "\u001b[34m[2024-09-03:09:58:17:INFO] Imported framework sagemaker_xgboost_container.training\u001b[0m\n",
      "\u001b[34m[2024-09-03:09:58:17:INFO] Failed to parse hyperparameter objective value reg:squarederror to Json.\u001b[0m\n",
      "\u001b[34mReturning the value itself\u001b[0m\n",
      "\u001b[34m[2024-09-03:09:58:17:INFO] No GPUs detected (normal if no gpus installed)\u001b[0m\n",
      "\u001b[34m[2024-09-03:09:58:17:INFO] Running XGBoost Sagemaker in algorithm mode\u001b[0m\n",
      "\u001b[34m[2024-09-03:09:58:17:INFO] Determined 0 GPU(s) available on the instance.\u001b[0m\n",
      "\u001b[34m[2024-09-03:09:58:17:INFO] Determined delimiter of CSV input is ','\u001b[0m\n",
      "\u001b[34m[2024-09-03:09:58:17:INFO] Determined delimiter of CSV input is ','\u001b[0m\n",
      "\u001b[34m[2024-09-03:09:58:17:INFO] File path /opt/ml/input/data/train of input files\u001b[0m\n",
      "\u001b[34m[2024-09-03:09:58:17:INFO] Making smlinks from folder /opt/ml/input/data/train to folder /tmp/sagemaker_xgboost_input_data\u001b[0m\n",
      "\u001b[34m[2024-09-03:09:58:17:INFO] creating symlink between Path /opt/ml/input/data/train/train.csv and destination /tmp/sagemaker_xgboost_input_data/train.csv-6993608721902444154\u001b[0m\n",
      "\u001b[34m[2024-09-03:09:58:17:INFO] files path: /tmp/sagemaker_xgboost_input_data\u001b[0m\n",
      "\u001b[34m[2024-09-03:09:58:17:INFO] Determined delimiter of CSV input is ','\u001b[0m\n",
      "\u001b[34m[2024-09-03:09:58:17:INFO] File path /opt/ml/input/data/validation of input files\u001b[0m\n",
      "\u001b[34m[2024-09-03:09:58:17:INFO] Making smlinks from folder /opt/ml/input/data/validation to folder /tmp/sagemaker_xgboost_input_data\u001b[0m\n",
      "\u001b[34m[2024-09-03:09:58:17:INFO] creating symlink between Path /opt/ml/input/data/validation/validation.csv and destination /tmp/sagemaker_xgboost_input_data/validation.csv-2318807435823065729\u001b[0m\n",
      "\u001b[34m[2024-09-03:09:58:17:INFO] files path: /tmp/sagemaker_xgboost_input_data\u001b[0m\n",
      "\u001b[34m[2024-09-03:09:58:17:INFO] Determined delimiter of CSV input is ','\u001b[0m\n",
      "\u001b[34m[2024-09-03:09:58:17:INFO] Single node training.\u001b[0m\n",
      "\u001b[34m[2024-09-03:09:58:17:INFO] Train matrix has 3723 rows and 8 columns\u001b[0m\n",
      "\u001b[34m[2024-09-03:09:58:17:INFO] Validation matrix has 932 rows\u001b[0m\n",
      "\u001b[34m[2024-09-03 09:58:17.493 ip-10-2-201-49.ec2.internal:7 INFO json_config.py:92] Creating hook from json_config at /opt/ml/input/config/debughookconfig.json.\u001b[0m\n",
      "\u001b[34m[2024-09-03 09:58:17.494 ip-10-2-201-49.ec2.internal:7 INFO hook.py:206] tensorboard_dir has not been set for the hook. SMDebug will not be exporting tensorboard summaries.\u001b[0m\n",
      "\u001b[34m[2024-09-03 09:58:17.494 ip-10-2-201-49.ec2.internal:7 INFO hook.py:259] Saving to /opt/ml/output/tensors\u001b[0m\n",
      "\u001b[34m[2024-09-03 09:58:17.495 ip-10-2-201-49.ec2.internal:7 INFO state_store.py:77] The checkpoint config file /opt/ml/input/config/checkpointconfig.json does not exist.\u001b[0m\n",
      "\u001b[34m[2024-09-03:09:58:17:INFO] Debug hook created from config\u001b[0m\n",
      "\u001b[34m[0]#011train-rmse:0.47847#011validation-rmse:0.47678\u001b[0m\n",
      "\u001b[34m[2024-09-03 09:58:17.604 ip-10-2-201-49.ec2.internal:7 INFO hook.py:427] Monitoring the collections: losses, metrics\u001b[0m\n",
      "\u001b[34m[2024-09-03 09:58:17.606 ip-10-2-201-49.ec2.internal:7 INFO hook.py:491] Hook is writing from the hook with pid: 7\u001b[0m\n",
      "\u001b[34m[1]#011train-rmse:0.47245#011validation-rmse:0.47071\u001b[0m\n",
      "\u001b[34m[2]#011train-rmse:0.46865#011validation-rmse:0.46687\u001b[0m\n",
      "\u001b[34m[3]#011train-rmse:0.46618#011validation-rmse:0.46438\u001b[0m\n",
      "\u001b[34m[4]#011train-rmse:0.46460#011validation-rmse:0.46278\u001b[0m\n",
      "\u001b[34m[5]#011train-rmse:0.46363#011validation-rmse:0.46179\u001b[0m\n",
      "\u001b[34m[6]#011train-rmse:0.46300#011validation-rmse:0.46115\u001b[0m\n",
      "\u001b[34m[7]#011train-rmse:0.46259#011validation-rmse:0.46073\u001b[0m\n",
      "\u001b[34m[8]#011train-rmse:0.46231#011validation-rmse:0.46045\u001b[0m\n",
      "\u001b[34m[9]#011train-rmse:0.46216#011validation-rmse:0.46028\u001b[0m\n",
      "\u001b[34m[10]#011train-rmse:0.46206#011validation-rmse:0.46018\u001b[0m\n",
      "\u001b[34m[11]#011train-rmse:0.46199#011validation-rmse:0.46012\u001b[0m\n",
      "\u001b[34m[12]#011train-rmse:0.46194#011validation-rmse:0.46006\u001b[0m\n",
      "\u001b[34m[13]#011train-rmse:0.46191#011validation-rmse:0.46003\u001b[0m\n",
      "\u001b[34m[14]#011train-rmse:0.46189#011validation-rmse:0.46001\u001b[0m\n",
      "\u001b[34m[15]#011train-rmse:0.46188#011validation-rmse:0.45999\u001b[0m\n",
      "\u001b[34m[16]#011train-rmse:0.46187#011validation-rmse:0.45999\u001b[0m\n",
      "\u001b[34m[17]#011train-rmse:0.46187#011validation-rmse:0.45998\u001b[0m\n",
      "\u001b[34m[18]#011train-rmse:0.44458#011validation-rmse:0.44081\u001b[0m\n",
      "\u001b[34m[19]#011train-rmse:0.44458#011validation-rmse:0.44081\u001b[0m\n",
      "\u001b[34m[20]#011train-rmse:0.44458#011validation-rmse:0.44081\u001b[0m\n",
      "\u001b[34m[21]#011train-rmse:0.44458#011validation-rmse:0.44081\u001b[0m\n",
      "\u001b[34m[22]#011train-rmse:0.44458#011validation-rmse:0.44081\u001b[0m\n",
      "\u001b[34m[23]#011train-rmse:0.44458#011validation-rmse:0.44081\u001b[0m\n",
      "\u001b[34m[24]#011train-rmse:0.44458#011validation-rmse:0.44081\u001b[0m\n",
      "\u001b[34m[25]#011train-rmse:0.44458#011validation-rmse:0.44081\u001b[0m\n",
      "\u001b[34m[26]#011train-rmse:0.44457#011validation-rmse:0.44080\u001b[0m\n",
      "\u001b[34m[27]#011train-rmse:0.44457#011validation-rmse:0.44080\u001b[0m\n",
      "\u001b[34m[28]#011train-rmse:0.44457#011validation-rmse:0.44080\u001b[0m\n",
      "\u001b[34m[29]#011train-rmse:0.44458#011validation-rmse:0.44080\u001b[0m\n",
      "\u001b[34m[30]#011train-rmse:0.44458#011validation-rmse:0.44080\u001b[0m\n",
      "\u001b[34m[31]#011train-rmse:0.44457#011validation-rmse:0.44080\u001b[0m\n",
      "\u001b[34m[32]#011train-rmse:0.44457#011validation-rmse:0.44080\u001b[0m\n",
      "\u001b[34m[33]#011train-rmse:0.44457#011validation-rmse:0.44080\u001b[0m\n",
      "\u001b[34m[34]#011train-rmse:0.44457#011validation-rmse:0.44080\u001b[0m\n",
      "\u001b[34m[35]#011train-rmse:0.44457#011validation-rmse:0.44080\u001b[0m\n",
      "\u001b[34m[36]#011train-rmse:0.44457#011validation-rmse:0.44080\u001b[0m\n",
      "\u001b[34m[37]#011train-rmse:0.44457#011validation-rmse:0.44080\u001b[0m\n",
      "\u001b[34m[38]#011train-rmse:0.44457#011validation-rmse:0.44080\u001b[0m\n",
      "\u001b[34m[39]#011train-rmse:0.44457#011validation-rmse:0.44080\u001b[0m\n",
      "\u001b[34m[40]#011train-rmse:0.44457#011validation-rmse:0.44080\u001b[0m\n",
      "\u001b[34m[41]#011train-rmse:0.44457#011validation-rmse:0.44080\u001b[0m\n",
      "\u001b[34m[42]#011train-rmse:0.44457#011validation-rmse:0.44080\u001b[0m\n",
      "\u001b[34m[43]#011train-rmse:0.44457#011validation-rmse:0.44080\u001b[0m\n",
      "\u001b[34m[44]#011train-rmse:0.44457#011validation-rmse:0.44080\u001b[0m\n",
      "\u001b[34m[45]#011train-rmse:0.44457#011validation-rmse:0.44080\u001b[0m\n",
      "\u001b[34m[46]#011train-rmse:0.44457#011validation-rmse:0.44080\u001b[0m\n",
      "\u001b[34m[47]#011train-rmse:0.44457#011validation-rmse:0.44080\u001b[0m\n",
      "\u001b[34m[48]#011train-rmse:0.44457#011validation-rmse:0.44080\u001b[0m\n",
      "\u001b[34m[49]#011train-rmse:0.44457#011validation-rmse:0.44080\u001b[0m\n",
      "\u001b[34m[50]#011train-rmse:0.44457#011validation-rmse:0.44080\u001b[0m\n",
      "\u001b[34m[51]#011train-rmse:0.44457#011validation-rmse:0.44080\u001b[0m\n",
      "\u001b[34m[52]#011train-rmse:0.44457#011validation-rmse:0.44080\u001b[0m\n",
      "\u001b[34m[53]#011train-rmse:0.44457#011validation-rmse:0.44080\u001b[0m\n",
      "\u001b[34m[54]#011train-rmse:0.44457#011validation-rmse:0.44080\u001b[0m\n",
      "\u001b[34m[55]#011train-rmse:0.44457#011validation-rmse:0.44080\u001b[0m\n",
      "\u001b[34m[56]#011train-rmse:0.44457#011validation-rmse:0.44080\u001b[0m\n",
      "\u001b[34m[57]#011train-rmse:0.44457#011validation-rmse:0.44080\u001b[0m\n",
      "\u001b[34m[58]#011train-rmse:0.44457#011validation-rmse:0.44080\u001b[0m\n",
      "\u001b[34m[59]#011train-rmse:0.44457#011validation-rmse:0.44080\u001b[0m\n",
      "\n",
      "2024-09-03 09:58:35 Training - Training image download completed. Training in progress.\n",
      "2024-09-03 09:58:35 Uploading - Uploading generated training model\n",
      "2024-09-03 09:58:35 Completed - Training job completed\n",
      "Training seconds: 105\n",
      "Billable seconds: 105\n"
     ]
    }
   ],
   "source": [
    "from sagemaker.debugger import DebuggerHookConfig, CollectionConfig, Rule, rule_configs\n",
    "\n",
    "\n",
    "rules = [\n",
    "    Rule.sagemaker(rule_configs.overtraining()),  # Detects when the model is overtraining (overfitting)\n",
    "    Rule.sagemaker(rule_configs.loss_not_decreasing()),  # Detects when the loss stops decreasing\n",
    "]\n",
    "\n",
    "# Define Debugger Hook Configuration\n",
    "\n",
    "debugger_hook_config = DebuggerHookConfig(\n",
    "    s3_output_path=f's3://{bucket}/{prefix}/debugger-output',\n",
    "    collection_configs=[\n",
    "        CollectionConfig(name=\"metrics\", parameters={\"save_interval\": \"5\"}),  # Capture metrics every 5 steps\n",
    "    ]\n",
    ")\n",
    "\n",
    "\n",
    "xgboost_estimator_debug = sagemaker.estimator.Estimator(\n",
    "    image_uri=xgboost_container,\n",
    "    hyperparameters=hyperparameters,\n",
    "    role=sagemaker.get_execution_role(),\n",
    "    instance_count=1,\n",
    "    instance_type='ml.m5.xlarge',\n",
    "    volume_size=5,\n",
    "    output_path=output_path,\n",
    "    debugger_hook_config=debugger_hook_config,\n",
    "    rules=rules  # Attach the rules\n",
    ")\n",
    "\n",
    "# Train the model\n",
    "xgboost_estimator_debug.fit({'train': train_input, 'validation': validation_input})\n"
   ]
  },
  {
   "cell_type": "code",
   "execution_count": 85,
   "id": "96770428-7c64-4766-bf79-41eb08313720",
   "metadata": {},
   "outputs": [
    {
     "name": "stdout",
     "output_type": "stream",
     "text": [
      "Training job status: Completed, Rule Evaluation Status: InProgress\n",
      "Training job status: Completed, Rule Evaluation Status: InProgress\n",
      "Training job status: Completed, Rule Evaluation Status: InProgress\n",
      "Training job status: Completed, Rule Evaluation Status: InProgress\n",
      "Training job status: Completed, Rule Evaluation Status: InProgress\n",
      "Training job status: Completed, Rule Evaluation Status: InProgress\n",
      "Training job status: Completed, Rule Evaluation Status: InProgress\n",
      "Training job status: Completed, Rule Evaluation Status: InProgress\n",
      "Training job status: Completed, Rule Evaluation Status: InProgress\n",
      "Training job status: Completed, Rule Evaluation Status: InProgress\n",
      "Training job status: Completed, Rule Evaluation Status: InProgress\n",
      "Training job status: Completed, Rule Evaluation Status: InProgress\n",
      "Training job status: Completed, Rule Evaluation Status: InProgress\n",
      "Training job status: Completed, Rule Evaluation Status: InProgress\n",
      "Training job status: Completed, Rule Evaluation Status: InProgress\n",
      "Training job status: Completed, Rule Evaluation Status: InProgress\n",
      "Training job status: Completed, Rule Evaluation Status: NoIssuesFound\n",
      "Rule: Overtraining, Status: NoIssuesFound\n",
      "Rule: LossNotDecreasing, Status: IssuesFound\n"
     ]
    }
   ],
   "source": [
    "import time\n",
    "\n",
    "# Monitor the training job and the rule evaluations\n",
    "for _ in range(360):  # Adjust the range based on your expected training duration\n",
    "    job_name = xgboost_estimator_debug.latest_training_job.name\n",
    "    client = xgboost_estimator_debug.sagemaker_session.sagemaker_client\n",
    "    description = client.describe_training_job(TrainingJobName=job_name)\n",
    "    training_job_status = description[\"TrainingJobStatus\"]\n",
    "    rule_job_summary = xgboost_estimator_debug.latest_training_job.rule_job_summary()\n",
    "    rule_evaluation_status = rule_job_summary[0][\"RuleEvaluationStatus\"]\n",
    "    \n",
    "    print(f\"Training job status: {training_job_status}, Rule Evaluation Status: {rule_evaluation_status}\")\n",
    "    \n",
    "    if rule_evaluation_status in [\"Stopped\", \"IssuesFound\", \"NoIssuesFound\"]:\n",
    "        break\n",
    "    \n",
    "    time.sleep(10)  # Poll every 10 seconds\n",
    "\n",
    "# Print the final rule evaluation status\n",
    "rule_summary = xgboost_estimator_debug.latest_training_job.rule_job_summary()\n",
    "for rule in rule_summary:\n",
    "    print(f\"Rule: {rule['RuleConfigurationName']}, Status: {rule['RuleEvaluationStatus']}\")\n"
   ]
  },
  {
   "cell_type": "code",
   "execution_count": null,
   "id": "bec03e9b-b804-4904-8ba9-ec63fa608d6f",
   "metadata": {},
   "outputs": [],
   "source": [
    "!pip install smdebug"
   ]
  },
  {
   "cell_type": "code",
   "execution_count": 86,
   "id": "5c76d84b-75e4-48e8-ad9c-b82612526fd0",
   "metadata": {},
   "outputs": [
    {
     "name": "stdout",
     "output_type": "stream",
     "text": [
      "[2024-09-03 10:01:28.895 default:604 INFO s3_trial.py:42] Loading trial debug-output at path s3://sagemaker-ml-28573/debugger/debugger-output/sagemaker-xgboost-2024-09-03-09-55-59-739/debug-output\n"
     ]
    }
   ],
   "source": [
    "from smdebug.trials import create_trial\n",
    "\n",
    "# Load the data from the S3 path where Debugger saved it\n",
    "s3_output_path = xgboost_estimator_debug.latest_job_debugger_artifacts_path()\n",
    "trial = create_trial(s3_output_path)\n"
   ]
  },
  {
   "cell_type": "code",
   "execution_count": 87,
   "id": "fc10813f-6ed3-438a-aa8c-53a37b4acb25",
   "metadata": {},
   "outputs": [
    {
     "name": "stdout",
     "output_type": "stream",
     "text": [
      "train-rmse\n",
      "validation-rmse\n"
     ]
    }
   ],
   "source": [
    "for tensor_name in trial.tensor_names():\n",
    "    print(tensor_name)\n"
   ]
  },
  {
   "cell_type": "code",
   "execution_count": 88,
   "id": "43b0bffc-eea3-47ba-bb84-2297833bdd96",
   "metadata": {},
   "outputs": [],
   "source": [
    "# Retrieve the train and validation RMSE tensors\n",
    "train_rmse_tensor = trial.tensor('train-rmse')\n",
    "validation_rmse_tensor = trial.tensor('validation-rmse')\n",
    "\n",
    "# Get the steps (epochs) and values for each tensor\n",
    "train_rmse_steps = train_rmse_tensor.steps()\n",
    "train_rmse_values = np.array([train_rmse_tensor.value(step) for step in train_rmse_steps])\n",
    "\n",
    "validation_rmse_steps = validation_rmse_tensor.steps()\n",
    "validation_rmse_values = np.array([validation_rmse_tensor.value(step) for step in validation_rmse_steps])\n"
   ]
  },
  {
   "cell_type": "code",
   "execution_count": 89,
   "id": "12d7559d-4241-4af0-bca1-2184193f6b3a",
   "metadata": {},
   "outputs": [
    {
     "data": {
      "image/png": "[encoded data removed]",
      "text/plain": [
       "<Figure size 1000x600 with 1 Axes>"
      ]
     },
     "metadata": {},
     "output_type": "display_data"
    }
   ],
   "source": [
    "import matplotlib.pyplot as plt\n",
    "\n",
    "plt.figure(figsize=(10, 6))\n",
    "\n",
    "# Plot training RMSE\n",
    "plt.plot(train_rmse_steps, train_rmse_values, label='Training RMSE', color='blue')\n",
    "\n",
    "# Plot validation RMSE\n",
    "plt.plot(validation_rmse_steps, validation_rmse_values, label='Validation RMSE', color='red')\n",
    "\n",
    "# Add labels and title\n",
    "plt.xlabel('Training Step (Epoch)')\n",
    "plt.ylabel('RMSE')\n",
    "plt.title('Learning Curves: Training vs Validation RMSE')\n",
    "plt.legend()\n",
    "\n",
    "# Show the plot\n",
    "plt.show()\n"
   ]
  },
  {
   "cell_type": "code",
   "execution_count": 90,
   "id": "5c1b29d1-5d78-49a0-9b38-275c689622ba",
   "metadata": {},
   "outputs": [
    {
     "name": "stdout",
     "output_type": "stream",
     "text": [
      "Train RMSE Steps: [0, 5, 10, 15, 20, 25, 30, 35, 40, 45, 50, 55]\n",
      "Train RMSE Values: [[0.47846699]\n",
      " [0.46362741]\n",
      " [0.4620554 ]\n",
      " [0.4618795 ]\n",
      " [0.44457662]\n",
      " [0.44457671]\n",
      " [0.44457516]\n",
      " [0.44457311]\n",
      " [0.44457307]\n",
      " [0.44457307]\n",
      " [0.44457321]\n",
      " [0.44457324]]\n",
      "Validation RMSE Steps: [0, 5, 10, 15, 20, 25, 30, 35, 40, 45, 50, 55]\n",
      "Validation RMSE Values: [[0.47677623]\n",
      " [0.46178845]\n",
      " [0.46018003]\n",
      " [0.45999307]\n",
      " [0.44080658]\n",
      " [0.44080672]\n",
      " [0.44080406]\n",
      " [0.44079902]\n",
      " [0.44079836]\n",
      " [0.44079861]\n",
      " [0.44079773]\n",
      " [0.44079768]]\n"
     ]
    }
   ],
   "source": [
    "# Print the contents to verify\n",
    "print(\"Train RMSE Steps:\", train_rmse_steps)\n",
    "print(\"Train RMSE Values:\", train_rmse_values)\n",
    "\n",
    "print(\"Validation RMSE Steps:\", validation_rmse_steps)\n",
    "print(\"Validation RMSE Values:\", validation_rmse_values)\n"
   ]
  },
  {
   "cell_type": "code",
   "execution_count": 91,
   "id": "0863bfc4-1769-4db0-889c-24d6f670d945",
   "metadata": {},
   "outputs": [],
   "source": [
    "# Initialize hyperparameters\n",
    "hyperparameters = {\n",
    "        \"max_depth\":\"5\", # lower depth\n",
    "        \"eta\":\"0.2\",\n",
    "        \"gamma\":\"5\", # change value here\n",
    "        \"min_child_weight\":\"6\",\n",
    "        \"subsample\":\"0.5\", # lower value\n",
    "        \"objective\":\"reg:squarederror\",\n",
    "        \"num_round\":\"60\"}"
   ]
  },
  {
   "cell_type": "code",
   "execution_count": 92,
   "id": "38e10533-7f83-452a-affa-cbf8688f29e3",
   "metadata": {},
   "outputs": [
    {
     "name": "stderr",
     "output_type": "stream",
     "text": [
      "INFO:sagemaker.image_uris:Defaulting to the only supported framework/algorithm version: latest.\n",
      "INFO:sagemaker.image_uris:Ignoring unnecessary instance type: None.\n",
      "INFO:sagemaker.image_uris:Defaulting to the only supported framework/algorithm version: latest.\n",
      "INFO:sagemaker.image_uris:Ignoring unnecessary instance type: None.\n",
      "INFO:sagemaker:Creating training-job with name: sagemaker-xgboost-2024-09-03-10-01-32-452\n"
     ]
    },
    {
     "name": "stdout",
     "output_type": "stream",
     "text": [
      "2024-09-03 10:01:34 Starting - Starting the training job...\n",
      "2024-09-03 10:01:58 Starting - Preparing the instances for trainingOvertraining: InProgress\n",
      "LossNotDecreasing: InProgress\n",
      "...\n",
      "2024-09-03 10:02:20 Downloading - Downloading input data...\n",
      "2024-09-03 10:02:58 Downloading - Downloading the training image...\n",
      "2024-09-03 10:03:36 Training - Training image download completed. Training in progress...\u001b[34m[2024-09-03 10:03:43.734 ip-10-0-135-246.ec2.internal:7 INFO utils.py:28] RULE_JOB_STOP_SIGNAL_FILENAME: None\u001b[0m\n",
      "\u001b[34m[2024-09-03 10:03:43.759 ip-10-0-135-246.ec2.internal:7 INFO profiler_config_parser.py:111] User has disabled profiler.\u001b[0m\n",
      "\u001b[34m[2024-09-03:10:03:44:INFO] Imported framework sagemaker_xgboost_container.training\u001b[0m\n",
      "\u001b[34m[2024-09-03:10:03:44:INFO] Failed to parse hyperparameter objective value reg:squarederror to Json.\u001b[0m\n",
      "\u001b[34mReturning the value itself\u001b[0m\n",
      "\u001b[34m[2024-09-03:10:03:44:INFO] No GPUs detected (normal if no gpus installed)\u001b[0m\n",
      "\u001b[34m[2024-09-03:10:03:44:INFO] Running XGBoost Sagemaker in algorithm mode\u001b[0m\n",
      "\u001b[34m[2024-09-03:10:03:44:INFO] Determined 0 GPU(s) available on the instance.\u001b[0m\n",
      "\u001b[34m[2024-09-03:10:03:44:INFO] Determined delimiter of CSV input is ','\u001b[0m\n",
      "\u001b[34m[2024-09-03:10:03:44:INFO] Determined delimiter of CSV input is ','\u001b[0m\n",
      "\u001b[34m[2024-09-03:10:03:44:INFO] File path /opt/ml/input/data/train of input files\u001b[0m\n",
      "\u001b[34m[2024-09-03:10:03:44:INFO] Making smlinks from folder /opt/ml/input/data/train to folder /tmp/sagemaker_xgboost_input_data\u001b[0m\n",
      "\u001b[34m[2024-09-03:10:03:44:INFO] creating symlink between Path /opt/ml/input/data/train/train.csv and destination /tmp/sagemaker_xgboost_input_data/train.csv-6211574089024394085\u001b[0m\n",
      "\u001b[34m[2024-09-03:10:03:44:INFO] files path: /tmp/sagemaker_xgboost_input_data\u001b[0m\n",
      "\u001b[34m[2024-09-03:10:03:44:INFO] Determined delimiter of CSV input is ','\u001b[0m\n",
      "\u001b[34m[2024-09-03:10:03:44:INFO] File path /opt/ml/input/data/validation of input files\u001b[0m\n",
      "\u001b[34m[2024-09-03:10:03:44:INFO] Making smlinks from folder /opt/ml/input/data/validation to folder /tmp/sagemaker_xgboost_input_data\u001b[0m\n",
      "\u001b[34m[2024-09-03:10:03:44:INFO] creating symlink between Path /opt/ml/input/data/validation/validation.csv and destination /tmp/sagemaker_xgboost_input_data/validation.csv2752637501360314225\u001b[0m\n",
      "\u001b[34m[2024-09-03:10:03:44:INFO] files path: /tmp/sagemaker_xgboost_input_data\u001b[0m\n",
      "\u001b[34m[2024-09-03:10:03:44:INFO] Determined delimiter of CSV input is ','\u001b[0m\n",
      "\u001b[34m[2024-09-03:10:03:44:INFO] Single node training.\u001b[0m\n",
      "\u001b[34m[2024-09-03:10:03:44:INFO] Train matrix has 3723 rows and 8 columns\u001b[0m\n",
      "\u001b[34m[2024-09-03:10:03:44:INFO] Validation matrix has 932 rows\u001b[0m\n",
      "\u001b[34m[2024-09-03 10:03:44.174 ip-10-0-135-246.ec2.internal:7 INFO json_config.py:92] Creating hook from json_config at /opt/ml/input/config/debughookconfig.json.\u001b[0m\n",
      "\u001b[34m[2024-09-03 10:03:44.174 ip-10-0-135-246.ec2.internal:7 INFO hook.py:206] tensorboard_dir has not been set for the hook. SMDebug will not be exporting tensorboard summaries.\u001b[0m\n",
      "\u001b[34m[2024-09-03 10:03:44.175 ip-10-0-135-246.ec2.internal:7 INFO hook.py:259] Saving to /opt/ml/output/tensors\u001b[0m\n",
      "\u001b[34m[2024-09-03 10:03:44.175 ip-10-0-135-246.ec2.internal:7 INFO state_store.py:77] The checkpoint config file /opt/ml/input/config/checkpointconfig.json does not exist.\u001b[0m\n",
      "\u001b[34m[2024-09-03:10:03:44:INFO] Debug hook created from config\u001b[0m\n",
      "\u001b[34m[0]#011train-rmse:0.45803#011validation-rmse:0.45371\u001b[0m\n",
      "\u001b[34m[2024-09-03 10:03:44.181 ip-10-0-135-246.ec2.internal:7 INFO hook.py:427] Monitoring the collections: metrics, losses\u001b[0m\n",
      "\u001b[34m[2024-09-03 10:03:44.185 ip-10-0-135-246.ec2.internal:7 INFO hook.py:491] Hook is writing from the hook with pid: 7\u001b[0m\n",
      "\u001b[34m[1]#011train-rmse:0.42686#011validation-rmse:0.42019\u001b[0m\n",
      "\u001b[34m[2]#011train-rmse:0.40783#011validation-rmse:0.39873\u001b[0m\n",
      "\u001b[34m[3]#011train-rmse:0.39510#011validation-rmse:0.38445\u001b[0m\n",
      "\u001b[34m[4]#011train-rmse:0.38294#011validation-rmse:0.37054\u001b[0m\n",
      "\u001b[34m[5]#011train-rmse:0.37670#011validation-rmse:0.36377\u001b[0m\n",
      "\u001b[34m[6]#011train-rmse:0.36982#011validation-rmse:0.35573\u001b[0m\n",
      "\u001b[34m[7]#011train-rmse:0.36951#011validation-rmse:0.35537\u001b[0m\n",
      "\u001b[34m[8]#011train-rmse:0.36606#011validation-rmse:0.35127\u001b[0m\n",
      "\u001b[34m[9]#011train-rmse:0.36594#011validation-rmse:0.35110\u001b[0m\n",
      "\u001b[34m[10]#011train-rmse:0.36582#011validation-rmse:0.35095\u001b[0m\n",
      "\u001b[34m[11]#011train-rmse:0.36574#011validation-rmse:0.35084\u001b[0m\n",
      "\u001b[34m[12]#011train-rmse:0.36565#011validation-rmse:0.35072\u001b[0m\n",
      "\u001b[34m[13]#011train-rmse:0.36563#011validation-rmse:0.35067\u001b[0m\n",
      "\u001b[34m[14]#011train-rmse:0.36559#011validation-rmse:0.35060\u001b[0m\n",
      "\u001b[34m[15]#011train-rmse:0.36559#011validation-rmse:0.35059\u001b[0m\n",
      "\u001b[34m[16]#011train-rmse:0.36558#011validation-rmse:0.35059\u001b[0m\n",
      "\u001b[34m[17]#011train-rmse:0.36558#011validation-rmse:0.35056\u001b[0m\n",
      "\u001b[34m[18]#011train-rmse:0.36558#011validation-rmse:0.35056\u001b[0m\n",
      "\u001b[34m[19]#011train-rmse:0.36558#011validation-rmse:0.35054\u001b[0m\n",
      "\u001b[34m[20]#011train-rmse:0.36559#011validation-rmse:0.35053\u001b[0m\n",
      "\u001b[34m[21]#011train-rmse:0.36558#011validation-rmse:0.35054\u001b[0m\n",
      "\u001b[34m[22]#011train-rmse:0.36558#011validation-rmse:0.35054\u001b[0m\n",
      "\u001b[34m[23]#011train-rmse:0.36558#011validation-rmse:0.35056\u001b[0m\n",
      "\u001b[34m[24]#011train-rmse:0.36558#011validation-rmse:0.35056\u001b[0m\n",
      "\u001b[34m[25]#011train-rmse:0.36558#011validation-rmse:0.35055\u001b[0m\n",
      "\u001b[34m[26]#011train-rmse:0.36558#011validation-rmse:0.35055\u001b[0m\n",
      "\u001b[34m[27]#011train-rmse:0.36558#011validation-rmse:0.35054\u001b[0m\n",
      "\u001b[34m[28]#011train-rmse:0.36302#011validation-rmse:0.34707\u001b[0m\n",
      "\u001b[34m[29]#011train-rmse:0.36302#011validation-rmse:0.34707\u001b[0m\n",
      "\u001b[34m[30]#011train-rmse:0.36302#011validation-rmse:0.34711\u001b[0m\n",
      "\u001b[34m[31]#011train-rmse:0.36303#011validation-rmse:0.34714\u001b[0m\n",
      "\u001b[34m[32]#011train-rmse:0.36304#011validation-rmse:0.34715\u001b[0m\n",
      "\u001b[34m[33]#011train-rmse:0.36304#011validation-rmse:0.34715\u001b[0m\n",
      "\u001b[34m[34]#011train-rmse:0.36303#011validation-rmse:0.34712\u001b[0m\n",
      "\u001b[34m[35]#011train-rmse:0.36303#011validation-rmse:0.34713\u001b[0m\n",
      "\u001b[34m[36]#011train-rmse:0.36303#011validation-rmse:0.34713\u001b[0m\n",
      "\u001b[34m[37]#011train-rmse:0.36303#011validation-rmse:0.34712\u001b[0m\n",
      "\u001b[34m[38]#011train-rmse:0.36302#011validation-rmse:0.34712\u001b[0m\n",
      "\u001b[34m[39]#011train-rmse:0.36301#011validation-rmse:0.34708\u001b[0m\n",
      "\u001b[34m[40]#011train-rmse:0.36302#011validation-rmse:0.34709\u001b[0m\n",
      "\u001b[34m[41]#011train-rmse:0.36302#011validation-rmse:0.34709\u001b[0m\n",
      "\u001b[34m[42]#011train-rmse:0.36302#011validation-rmse:0.34711\u001b[0m\n",
      "\u001b[34m[43]#011train-rmse:0.36302#011validation-rmse:0.34709\u001b[0m\n",
      "\u001b[34m[44]#011train-rmse:0.36301#011validation-rmse:0.34708\u001b[0m\n",
      "\u001b[34m[45]#011train-rmse:0.36301#011validation-rmse:0.34709\u001b[0m\n",
      "\u001b[34m[46]#011train-rmse:0.36302#011validation-rmse:0.34711\u001b[0m\n",
      "\u001b[34m[47]#011train-rmse:0.36304#011validation-rmse:0.34715\u001b[0m\n",
      "\u001b[34m[48]#011train-rmse:0.36303#011validation-rmse:0.34714\u001b[0m\n",
      "\u001b[34m[49]#011train-rmse:0.36302#011validation-rmse:0.34711\u001b[0m\n",
      "\u001b[34m[50]#011train-rmse:0.36302#011validation-rmse:0.34711\u001b[0m\n",
      "\u001b[34m[51]#011train-rmse:0.36302#011validation-rmse:0.34709\u001b[0m\n",
      "\u001b[34m[52]#011train-rmse:0.36302#011validation-rmse:0.34707\u001b[0m\n",
      "\u001b[34m[53]#011train-rmse:0.36301#011validation-rmse:0.34708\u001b[0m\n",
      "\u001b[34m[54]#011train-rmse:0.36302#011validation-rmse:0.34707\u001b[0m\n",
      "\u001b[34m[55]#011train-rmse:0.36302#011validation-rmse:0.34707\u001b[0m\n",
      "\u001b[34m[56]#011train-rmse:0.36302#011validation-rmse:0.34707\u001b[0m\n",
      "\u001b[34m[57]#011train-rmse:0.36301#011validation-rmse:0.34708\u001b[0m\n",
      "\u001b[34m[58]#011train-rmse:0.36302#011validation-rmse:0.34709\u001b[0m\n",
      "\u001b[34m[59]#011train-rmse:0.36301#011validation-rmse:0.34709\u001b[0m\n",
      "\n",
      "2024-09-03 10:04:00 Uploading - Uploading generated training model\n",
      "2024-09-03 10:04:00 Completed - Training job completed\n",
      "Training seconds: 100\n",
      "Billable seconds: 100\n"
     ]
    }
   ],
   "source": [
    "from sagemaker.debugger import DebuggerHookConfig, CollectionConfig, Rule, rule_configs\n",
    "\n",
    "\n",
    "rules = [\n",
    "    Rule.sagemaker(rule_configs.overtraining()),  # Detects when the model is overtraining (overfitting)\n",
    "    Rule.sagemaker(rule_configs.loss_not_decreasing()),  # Detects when the loss stops decreasing\n",
    "]\n",
    "\n",
    "# Define Debugger Hook Configuration\n",
    "\n",
    "debugger_hook_config = DebuggerHookConfig(\n",
    "    s3_output_path=f's3://{bucket}/{prefix}/debugger-output',\n",
    "    collection_configs=[\n",
    "        CollectionConfig(name=\"metrics\", parameters={\"save_interval\": \"5\"}),  # Capture metrics every 5 steps\n",
    "    ]\n",
    ")\n",
    "\n",
    "\n",
    "xgboost_estimator_debug = sagemaker.estimator.Estimator(\n",
    "    image_uri=xgboost_container,\n",
    "    hyperparameters=hyperparameters,\n",
    "    role=sagemaker.get_execution_role(),\n",
    "    instance_count=1,\n",
    "    instance_type='ml.m5.xlarge',\n",
    "    volume_size=5,\n",
    "    output_path=output_path,\n",
    "    debugger_hook_config=debugger_hook_config,\n",
    "    rules=rules  # Attach the rules\n",
    ")\n",
    "\n",
    "# Train the model\n",
    "xgboost_estimator_debug.fit({'train': train_input, 'validation': validation_input})\n"
   ]
  },
  {
   "cell_type": "code",
   "execution_count": null,
   "id": "132f89a0-8986-407e-b454-f582be25b851",
   "metadata": {},
   "outputs": [],
   "source": []
  },
  {
   "cell_type": "code",
   "execution_count": 93,
   "id": "571be6e1-ba56-4ed7-a632-3a2f740b9eeb",
   "metadata": {},
   "outputs": [
    {
     "name": "stdout",
     "output_type": "stream",
     "text": [
      "Training job status: Completed, Rule Evaluation Status: InProgress\n",
      "Training job status: Completed, Rule Evaluation Status: InProgress\n",
      "Training job status: Completed, Rule Evaluation Status: InProgress\n",
      "Training job status: Completed, Rule Evaluation Status: InProgress\n",
      "Training job status: Completed, Rule Evaluation Status: InProgress\n",
      "Training job status: Completed, Rule Evaluation Status: InProgress\n",
      "Training job status: Completed, Rule Evaluation Status: InProgress\n",
      "Training job status: Completed, Rule Evaluation Status: InProgress\n",
      "Training job status: Completed, Rule Evaluation Status: InProgress\n",
      "Training job status: Completed, Rule Evaluation Status: InProgress\n",
      "Training job status: Completed, Rule Evaluation Status: InProgress\n",
      "Training job status: Completed, Rule Evaluation Status: InProgress\n",
      "Training job status: Completed, Rule Evaluation Status: InProgress\n",
      "Training job status: Completed, Rule Evaluation Status: InProgress\n",
      "Training job status: Completed, Rule Evaluation Status: NoIssuesFound\n",
      "Rule: Overtraining, Status: NoIssuesFound\n",
      "Rule: LossNotDecreasing, Status: IssuesFound\n"
     ]
    }
   ],
   "source": [
    "import time\n",
    "\n",
    "# Monitor the training job and the rule evaluations\n",
    "for _ in range(360):  # Adjust the range based on your expected training duration\n",
    "    job_name = xgboost_estimator_debug.latest_training_job.name\n",
    "    client = xgboost_estimator_debug.sagemaker_session.sagemaker_client\n",
    "    description = client.describe_training_job(TrainingJobName=job_name)\n",
    "    training_job_status = description[\"TrainingJobStatus\"]\n",
    "    rule_job_summary = xgboost_estimator_debug.latest_training_job.rule_job_summary()\n",
    "    rule_evaluation_status = rule_job_summary[0][\"RuleEvaluationStatus\"]\n",
    "    \n",
    "    print(f\"Training job status: {training_job_status}, Rule Evaluation Status: {rule_evaluation_status}\")\n",
    "    \n",
    "    if rule_evaluation_status in [\"Stopped\", \"IssuesFound\", \"NoIssuesFound\"]:\n",
    "        break\n",
    "    \n",
    "    time.sleep(10)  # Poll every 10 seconds\n",
    "\n",
    "# Print the final rule evaluation status\n",
    "rule_summary = xgboost_estimator_debug.latest_training_job.rule_job_summary()\n",
    "for rule in rule_summary:\n",
    "    print(f\"Rule: {rule['RuleConfigurationName']}, Status: {rule['RuleEvaluationStatus']}\")\n"
   ]
  },
  {
   "cell_type": "code",
   "execution_count": 30,
   "id": "30f319b5-5e34-45b6-a7df-7f09c1bb07b6",
   "metadata": {},
   "outputs": [
    {
     "name": "stdout",
     "output_type": "stream",
     "text": [
      "Requirement already satisfied: smdebug in /opt/conda/lib/python3.10/site-packages (1.0.34)\n",
      "Requirement already satisfied: protobuf<=3.20.3,>=3.20.0 in /opt/conda/lib/python3.10/site-packages (from smdebug) (3.20.3)\n",
      "Requirement already satisfied: numpy>=1.16.0 in /opt/conda/lib/python3.10/site-packages (from smdebug) (1.26.4)\n",
      "Requirement already satisfied: packaging in /opt/conda/lib/python3.10/site-packages (from smdebug) (24.1)\n",
      "Requirement already satisfied: boto3>=1.10.32 in /opt/conda/lib/python3.10/site-packages (from smdebug) (1.34.131)\n",
      "Requirement already satisfied: pyinstrument==3.4.2 in /opt/conda/lib/python3.10/site-packages (from smdebug) (3.4.2)\n",
      "Requirement already satisfied: pyinstrument-cext>=0.2.2 in /opt/conda/lib/python3.10/site-packages (from pyinstrument==3.4.2->smdebug) (0.2.4)\n",
      "Requirement already satisfied: botocore<1.35.0,>=1.34.131 in /opt/conda/lib/python3.10/site-packages (from boto3>=1.10.32->smdebug) (1.34.131)\n",
      "Requirement already satisfied: jmespath<2.0.0,>=0.7.1 in /opt/conda/lib/python3.10/site-packages (from boto3>=1.10.32->smdebug) (1.0.1)\n",
      "Requirement already satisfied: s3transfer<0.11.0,>=0.10.0 in /opt/conda/lib/python3.10/site-packages (from boto3>=1.10.32->smdebug) (0.10.2)\n",
      "Requirement already satisfied: python-dateutil<3.0.0,>=2.1 in /opt/conda/lib/python3.10/site-packages (from botocore<1.35.0,>=1.34.131->boto3>=1.10.32->smdebug) (2.9.0)\n",
      "Requirement already satisfied: urllib3!=2.2.0,<3,>=1.25.4 in /opt/conda/lib/python3.10/site-packages (from botocore<1.35.0,>=1.34.131->boto3>=1.10.32->smdebug) (1.26.19)\n",
      "Requirement already satisfied: six>=1.5 in /opt/conda/lib/python3.10/site-packages (from python-dateutil<3.0.0,>=2.1->botocore<1.35.0,>=1.34.131->boto3>=1.10.32->smdebug) (1.16.0)\n"
     ]
    }
   ],
   "source": [
    "!pip install smdebug"
   ]
  },
  {
   "cell_type": "code",
   "execution_count": 94,
   "id": "514b6142-8549-4edf-9cb2-850f86c5ad0d",
   "metadata": {},
   "outputs": [
    {
     "name": "stdout",
     "output_type": "stream",
     "text": [
      "[2024-09-03 10:06:41.053 default:604 INFO s3_trial.py:42] Loading trial debug-output at path s3://sagemaker-ml-28573/debugger/debugger-output/sagemaker-xgboost-2024-09-03-10-01-32-452/debug-output\n"
     ]
    }
   ],
   "source": [
    "from smdebug.trials import create_trial\n",
    "\n",
    "# Load the data from the S3 path where Debugger saved it\n",
    "s3_output_path = xgboost_estimator_debug.latest_job_debugger_artifacts_path()\n",
    "trial = create_trial(s3_output_path)\n"
   ]
  },
  {
   "cell_type": "code",
   "execution_count": 95,
   "id": "d7bd917d-a7be-4dbd-a32f-06fd71dd97c9",
   "metadata": {},
   "outputs": [
    {
     "name": "stdout",
     "output_type": "stream",
     "text": [
      "train-rmse\n",
      "validation-rmse\n"
     ]
    }
   ],
   "source": [
    "for tensor_name in trial.tensor_names():\n",
    "    print(tensor_name)\n"
   ]
  },
  {
   "cell_type": "code",
   "execution_count": 96,
   "id": "edb773fb-c3d9-4604-9eae-4e82385316f3",
   "metadata": {},
   "outputs": [],
   "source": [
    "# Retrieve the train and validation RMSE tensors\n",
    "train_rmse_tensor = trial.tensor('train-rmse')\n",
    "validation_rmse_tensor = trial.tensor('validation-rmse')\n",
    "\n",
    "# Get the steps (epochs) and values for each tensor\n",
    "train_rmse_steps = train_rmse_tensor.steps()\n",
    "train_rmse_values = np.array([train_rmse_tensor.value(step) for step in train_rmse_steps])\n",
    "\n",
    "validation_rmse_steps = validation_rmse_tensor.steps()\n",
    "validation_rmse_values = np.array([validation_rmse_tensor.value(step) for step in validation_rmse_steps])\n"
   ]
  },
  {
   "cell_type": "code",
   "execution_count": 97,
   "id": "7ea3210e-5a54-4e76-8a72-78fd2c300750",
   "metadata": {},
   "outputs": [
    {
     "data": {
      "image/png": "[encoded data removed]",
      "text/plain": [
       "<Figure size 1000x600 with 1 Axes>"
      ]
     },
     "metadata": {},
     "output_type": "display_data"
    }
   ],
   "source": [
    "import matplotlib.pyplot as plt\n",
    "\n",
    "plt.figure(figsize=(10, 6))\n",
    "\n",
    "# Plot training RMSE\n",
    "plt.plot(train_rmse_steps, train_rmse_values, label='Training RMSE', color='blue')\n",
    "\n",
    "# Plot validation RMSE\n",
    "plt.plot(validation_rmse_steps, validation_rmse_values, label='Validation RMSE', color='red')\n",
    "\n",
    "# Add labels and title\n",
    "plt.xlabel('Training Step (Epoch)')\n",
    "plt.ylabel('RMSE')\n",
    "plt.title('Learning Curves: Training vs Validation RMSE')\n",
    "plt.legend()\n",
    "\n",
    "# Show the plot\n",
    "plt.show()\n"
   ]
  },
  {
   "cell_type": "code",
   "execution_count": 98,
   "id": "cbdfd8c8-0eec-43f8-ab80-66950ea7908d",
   "metadata": {},
   "outputs": [
    {
     "name": "stdout",
     "output_type": "stream",
     "text": [
      "Train RMSE Steps: [0, 5, 10, 15, 20, 25, 30, 35, 40, 45, 50, 55]\n",
      "Train RMSE Values: [[0.45803475]\n",
      " [0.37670372]\n",
      " [0.36582111]\n",
      " [0.36558543]\n",
      " [0.3655869 ]\n",
      " [0.36557636]\n",
      " [0.36302102]\n",
      " [0.36302919]\n",
      " [0.36301551]\n",
      " [0.36301454]\n",
      " [0.36302018]\n",
      " [0.36302051]]\n",
      "Validation RMSE Steps: [0, 5, 10, 15, 20, 25, 30, 35, 40, 45, 50, 55]\n",
      "Validation RMSE Values: [[0.4537078 ]\n",
      " [0.36377222]\n",
      " [0.35095253]\n",
      " [0.35059081]\n",
      " [0.35053421]\n",
      " [0.35054948]\n",
      " [0.34711191]\n",
      " [0.34713209]\n",
      " [0.34709224]\n",
      " [0.34708502]\n",
      " [0.3471095 ]\n",
      " [0.34706539]]\n"
     ]
    }
   ],
   "source": [
    "# Print the contents to verify\n",
    "print(\"Train RMSE Steps:\", train_rmse_steps)\n",
    "print(\"Train RMSE Values:\", train_rmse_values)\n",
    "\n",
    "print(\"Validation RMSE Steps:\", validation_rmse_steps)\n",
    "print(\"Validation RMSE Values:\", validation_rmse_values)\n"
   ]
  },
  {
   "cell_type": "code",
   "execution_count": 110,
   "id": "20952935-5cc4-4e3c-97c2-76d3c3852148",
   "metadata": {
    "scrolled": true
   },
   "outputs": [
    {
     "name": "stderr",
     "output_type": "stream",
     "text": [
      "INFO:sagemaker:Creating model with name: sagemaker-xgboost-2024-09-03-10-58-01-078\n",
      "INFO:sagemaker:Creating endpoint-config with name sagemaker-xgboost-2024-09-03-10-58-01-078\n",
      "INFO:sagemaker:Creating endpoint with name sagemaker-xgboost-2024-09-03-10-58-01-078\n"
     ]
    },
    {
     "name": "stdout",
     "output_type": "stream",
     "text": [
      "-------!"
     ]
    }
   ],
   "source": [
    "# Deploy model\n",
    "\n",
    "predictor_improved = xgboost_estimator_debug.deploy(\n",
    "    initial_instance_count=1,\n",
    "    instance_type='ml.m5.xlarge'\n",
    ")\n"
   ]
  },
  {
   "cell_type": "code",
   "execution_count": 111,
   "id": "732b3a0f-36df-4845-9a65-fb55e7692ae6",
   "metadata": {},
   "outputs": [],
   "source": [
    "# Import necessary libraries\n",
    "import numpy as np\n",
    "import pandas as pd\n",
    "from sklearn.metrics import confusion_matrix, classification_report, accuracy_score\n",
    "\n",
    "# Set up the predictor\n",
    "predictor_improved.content_type = \"text/csv\"\n",
    "predictor_improved.serializer = sagemaker.serializers.CSVSerializer()\n",
    "predictor_improved.deserializer = sagemaker.deserializers.JSONDeserializer()\n"
   ]
  },
  {
   "cell_type": "code",
   "execution_count": 112,
   "id": "15770e53-8cf3-41d0-91cb-354a819b1231",
   "metadata": {},
   "outputs": [],
   "source": [
    "# Define a function to make predictions\n",
    "def predict(data, predictor_improved, rows=500):\n",
    "    # Split the test data into mini-batches of rows\n",
    "    split_array = np.array_split(data, int(data.shape[0] / float(rows) + 1))\n",
    "    \n",
    "    # Initialize an empty list for predictions\n",
    "    predictions = []\n",
    "    \n",
    "    # Iterate through the mini-batches and make predictions\n",
    "    for array in split_array:\n",
    "        # Make a prediction for the mini-batch\n",
    "        pred = predictor_improved.predict(array)\n",
    "        \n",
    "        # Assuming pred is a dictionary, extract the prediction values\n",
    "        if isinstance(pred, dict):\n",
    "            pred_values = pred.get(\"predictions\", [])\n",
    "            \n",
    "            # If predictions are a list of dictionaries, extract the values\n",
    "            if isinstance(pred_values, list):\n",
    "                for value in pred_values:\n",
    "                    if isinstance(value, dict):\n",
    "                        # Assuming each dictionary has a key that holds the actual prediction\n",
    "                        predictions.append(value.get(\"predicted_label\", value.get(\"score\", 0.0)))\n",
    "                    else:\n",
    "                        predictions.append(value)\n",
    "        else:\n",
    "            predictions.append(pred)\n",
    "\n",
    "    # Convert the list of predictions directly to a NumPy array\n",
    "    return np.array(predictions, dtype=float)\n",
    "\n",
    "# Load your test data into a NumPy array (assuming your test data is a Pandas DataFrame)\n",
    "test_df_np = test_df.to_numpy()\n",
    "\n",
    "# Separate the target variable (assumed to be in the first column) from the features\n",
    "actual = test_df_np[:, 0]   # First column is the target\n",
    "features = test_df_np[:, 1:]  # Remaining columns are the features\n",
    "\n",
    "# Make predictions on the features only\n",
    "predictions = predict(features, predictor_improved)\n",
    "\n",
    "# Since this is binary classification, round the predictions\n",
    "predictions_rounded = np.round(predictions)"
   ]
  },
  {
   "cell_type": "code",
   "execution_count": 113,
   "id": "3acee569-f6f7-4920-b687-3afbc6c93725",
   "metadata": {},
   "outputs": [
    {
     "name": "stdout",
     "output_type": "stream",
     "text": [
      "Confusion Matrix:\n",
      " [[603   7]\n",
      " [147 174]]\n",
      "\n",
      "Classification Report:\n",
      "               precision    recall  f1-score   support\n",
      "\n",
      "           0       0.80      0.99      0.89       610\n",
      "           1       0.96      0.54      0.69       321\n",
      "\n",
      "    accuracy                           0.83       931\n",
      "   macro avg       0.88      0.77      0.79       931\n",
      "weighted avg       0.86      0.83      0.82       931\n",
      "\n",
      "\n",
      "Accuracy Score: 0.8345864661654135\n"
     ]
    },
    {
     "data": {
      "image/png": "[encoded data removed]",
      "text/plain": [
       "<Figure size 800x600 with 1 Axes>"
      ]
     },
     "metadata": {},
     "output_type": "display_data"
    }
   ],
   "source": [
    "# Evaluate the model\n",
    "conf_matrix = confusion_matrix(actual, predictions_rounded)\n",
    "class_report = classification_report(actual, predictions_rounded)\n",
    "accuracy = accuracy_score(actual, predictions_rounded)\n",
    "\n",
    "# Print the evaluation results\n",
    "print(\"Confusion Matrix:\\n\", conf_matrix)\n",
    "print(\"\\nClassification Report:\\n\", class_report)\n",
    "print(\"\\nAccuracy Score:\", accuracy)# Confusion Matrix\n",
    "conf_matrix = confusion_matrix(actual, predictions_rounded)\n",
    "\n",
    "plt.figure(figsize=(8, 6))\n",
    "sns.heatmap(conf_matrix, annot=True, fmt='d', cmap='Blues', cbar=False)\n",
    "plt.title('Confusion Matrix')\n",
    "plt.xlabel('Predicted Label')\n",
    "plt.ylabel('True Label')\n",
    "plt.show()\n"
   ]
  },
  {
   "cell_type": "code",
   "execution_count": null,
   "id": "af98b0f2-bea2-43d1-a49e-f5b420515c3a",
   "metadata": {},
   "outputs": [],
   "source": []
  }
 ],
 "metadata": {
  "kernelspec": {
   "display_name": "Python 3 (ipykernel)",
   "language": "python",
   "name": "python3"
  },
  "language_info": {
   "codemirror_mode": {
    "name": "ipython",
    "version": 3
   },
   "file_extension": ".py",
   "mimetype": "text/x-python",
   "name": "python",
   "nbconvert_exporter": "python",
   "pygments_lexer": "ipython3",
   "version": "3.10.14"
  }
 },
 "nbformat": 4,
 "nbformat_minor": 5
}
