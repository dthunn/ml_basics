{
 "cells": [
  {
   "cell_type": "markdown",
   "id": "1b2b7d79",
   "metadata": {},
   "source": [
    "# SageMaker Clarify Demo: Analyze Bias\n",
    "This notebook demonstrates how SageMaker Clarify"
   ]
  },
  {
   "cell_type": "code",
   "execution_count": null,
   "id": "07bc85d7",
   "metadata": {},
   "outputs": [],
   "source": [
    "# Step 1: Setup\n",
    "import sagemaker\n",
    "from sagemaker import get_execution_role\n",
    "import boto3\n",
    "import pandas as pd\n",
    "from sklearn.model_selection import train_test_split \n",
    "\n",
    "sagemaker_session = sagemaker.Session()\n",
    "role = get_execution_role()\n",
    "region = boto3.Session().region_name\n",
    "\n",
    "# S3 bucket for storing data\n",
    "bucket = 'sagemaker-ml-28573'\n",
    "prefix = 'clarify-data'\n",
    "output_path = f's3://{bucket}/{prefix}/output'\n",
    "\n",
    "# Load the dataset\n",
    "file_path = 'Employee.csv'  # Replace with your actual file path in S3 if needed\n",
    "employee_df = pd.read_csv(file_path)\n",
    "employee_df.head()"
   ]
  },
  {
   "cell_type": "code",
   "execution_count": null,
   "id": "275e0021",
   "metadata": {
    "scrolled": true
   },
   "outputs": [],
   "source": [
    "# Step 2: Data Preparation\n",
    "# Convert categorical columns to numeric\n",
    "employee_df['Education'] = employee_df['Education'].astype('category').cat.codes\n",
    "employee_df['City'] = employee_df['City'].astype('category').cat.codes\n",
    "employee_df['Gender'] = employee_df['Gender'].astype('category').cat.codes\n",
    "employee_df['EverBenched'] = employee_df['EverBenched'].map({'Yes': 1, 'No': 0})\n",
    "\n",
    "# Drop rows with NaN values in the target column\n",
    "employee_df.dropna(subset=['LeaveOrNot'])\n",
    "\n",
    "# Convert target column to numeric if needed\n",
    "employee_df['LeaveOrNot'] = employee_df['LeaveOrNot'].astype(int)\n",
    "\n",
    "# Ensure no missing values in feature columns\n",
    "employee_df = employee_df.dropna()\n",
    "\n",
    "# Verify all columns are numeric\n",
    "print(employee_df.dtypes)\n",
    "\n",
    "# Define features and target\n",
    "feature_columns = [\n",
    "    'Education', 'JoiningYear', 'City', 'PaymentTier', 'Age',\n",
    "    'Gender', 'EverBenched', 'ExperienceInCurrentDomain'\n",
    "]\n",
    "target_column = 'LeaveOrNot'\n",
    "\n",
    "employee_df = employee_df[[target_column] + feature_columns]\n",
    "\n",
    "train_df, test_df = train_test_split(employee_df, test_size=0.2, random_state=42)\n",
    "\n",
    "# Display the transformed dataset\n",
    "employee_df.head()"
   ]
  },
  {
   "cell_type": "markdown",
   "id": "7dc2f17f-7e0e-4a9a-9674-b3c567a64801",
   "metadata": {},
   "source": [
    "## Train the Model "
   ]
  },
  {
   "cell_type": "code",
   "execution_count": null,
   "id": "8573a23c-21c8-45cd-842d-0baf311e00c5",
   "metadata": {},
   "outputs": [],
   "source": [
    "# Initialize S3 client\n",
    "s3 = boto3.client('s3')\n",
    "\n",
    "# Define your S3 bucket and prefix\n",
    "bucket = 'sagemaker-ml-28573'\n",
    "prefix = 'clarify-data'\n",
    "\n",
    "# Save the data locally first\n",
    "train_file = 'train.csv'\n",
    "validation_file = 'validation.csv'\n",
    "train_df.to_csv(train_file, index=False)\n",
    "test_df.to_csv(validation_file, index=False)\n",
    "\n",
    "# Upload the data to S3\n",
    "s3.upload_file(train_file, bucket, f'{prefix}/train/{train_file}')\n",
    "s3.upload_file(validation_file, bucket, f'{prefix}/validation/{validation_file}')\n",
    "\n",
    "print(f\"Training data uploaded to s3://{bucket}/{prefix}/train/{train_file}\")\n",
    "print(f\"Validation data uploaded to s3://{bucket}/{prefix}/validation/{validation_file}\")\n"
   ]
  },
  {
   "cell_type": "markdown",
   "id": "6e8555f1-2697-4094-b7db-aabf7dc69fbb",
   "metadata": {},
   "source": [
    "## Configure Bias Analysis"
   ]
  },
  {
   "cell_type": "code",
   "execution_count": null,
   "id": "4caefafa-eba7-4c6d-841c-a6e1b313f876",
   "metadata": {
    "scrolled": true
   },
   "outputs": [],
   "source": [
    "from sagemaker import clarify\n",
    "\n",
    "# Define the sensitive attribute (e.g., 'Gender')\n",
    "sensitive_attribute = 'Gender'\n",
    "\n",
    "# Define the label column \n",
    "label_column = 'LeaveOrNot'\n",
    "prefix = 'clarify-data'\n",
    "# Define output path\n",
    "output_path = f's3://{bucket}/{prefix}/pre-training-analysis'\n",
    "\n",
    "# Define the config for pre-training bias analysis\n",
    "bias_config = clarify.BiasConfig(\n",
    "    label_values_or_threshold=[1],\n",
    "    facet_name=sensitive_attribute,\n",
    "    facet_values_or_threshold=[0],\n",
    "    group_name=None\n",
    ")\n",
    "\n",
    "# Define the data config\n",
    "data_config = clarify.DataConfig(\n",
    "    s3_data_input_path=f's3://{bucket}/{prefix}/train/{train_file}',\n",
    "    s3_output_path=output_path,\n",
    "    label=label_column,\n",
    "    headers=employee_df.columns.to_list(),\n",
    "    dataset_type='text/csv'\n",
    ")"
   ]
  },
  {
   "cell_type": "markdown",
   "id": "dc23ffc6-f874-43d9-8111-d17a04381e85",
   "metadata": {},
   "source": [
    "## Run Pre-Training Bias Analysis"
   ]
  },
  {
   "cell_type": "code",
   "execution_count": null,
   "id": "7a1d3516-765e-4203-a3f2-f3a8bd21c79e",
   "metadata": {},
   "outputs": [],
   "source": [
    "# Run pre-training bias analysis\n",
    "clarify_processor = clarify.SageMakerClarifyProcessor(\n",
    "    role=role,\n",
    "    instance_count=1,\n",
    "    instance_type='ml.t3.medium',\n",
    "    sagemaker_session=sagemaker_session\n",
    ")\n",
    "\n",
    "clarify_processor.run_pre_training_bias(\n",
    "    data_config=data_config,\n",
    "    data_bias_config=bias_config\n",
    ")\n"
   ]
  },
  {
   "cell_type": "markdown",
   "id": "d4c1d4e2-9376-429c-8543-c44a02fb8863",
   "metadata": {},
   "source": [
    "## Train Model"
   ]
  },
  {
   "cell_type": "code",
   "execution_count": null,
   "id": "eb8828f2-f342-4908-b548-513c991127ec",
   "metadata": {},
   "outputs": [],
   "source": [
    "import sagemaker\n",
    "import boto3\n",
    "from sagemaker import image_uris\n",
    "from sagemaker.inputs import TrainingInput\n",
    "\n",
    "# Initialize hyperparameters\n",
    "hyperparameters = {\n",
    "        \"max_depth\":\"5\",\n",
    "        \"eta\":\"0.2\",\n",
    "        \"gamma\":\"4\",\n",
    "        \"min_child_weight\":\"6\",\n",
    "        \"subsample\":\"0.7\",\n",
    "        \"objective\":\"reg:squarederror\",\n",
    "        \"num_round\":\"50\"}\n",
    "\n",
    "# Set an output path where the trained model will be saved\n",
    "output_path = f's3://{bucket}/{prefix}/training-output'\n",
    "\n",
    "# Retrieve the XGBoost image URI\n",
    "region = boto3.Session().region_name  # Automatically get the region\n",
    "xgboost_container = image_uris.retrieve(\"xgboost\", region, \"1.7-1\")\n",
    "\n",
    "# Construct a SageMaker estimator that calls the xgboost-container\n",
    "estimator = sagemaker.estimator.Estimator(image_uri=xgboost_container, \n",
    "                                          hyperparameters=hyperparameters,\n",
    "                                          role=sagemaker.get_execution_role(),\n",
    "                                          instance_count=1, \n",
    "                                          instance_type='ml.m5.xlarge', \n",
    "                                          volume_size=5,  # 5 GB \n",
    "                                          output_path=output_path)\n",
    "\n",
    "# Define the data type and paths to the training and validation datasets\n",
    "content_type = \"csv\"\n",
    "train_input = TrainingInput(f\"s3://{bucket}/input-data/train/\", content_type=content_type)\n",
    "validation_input = TrainingInput(f\"s3://{bucket}/input-data/validation/\", content_type=content_type)\n",
    "\n",
    "# Execute the XGBoost training job\n",
    "estimator.fit({'train': train_input, 'validation': validation_input})"
   ]
  },
  {
   "cell_type": "markdown",
   "id": "70af12b1-8dff-46e0-87b4-953303ff79b4",
   "metadata": {},
   "source": [
    "## Deploy model"
   ]
  },
  {
   "cell_type": "code",
   "execution_count": null,
   "id": "471151eb-8bf8-47e3-80e9-2ee1cf95ae4a",
   "metadata": {},
   "outputs": [],
   "source": [
    "# Deploy model\n",
    "\n",
    "predictor = estimator.deploy(\n",
    "    initial_instance_count=1,\n",
    "    instance_type='ml.m5.xlarge'\n",
    ")\n"
   ]
  },
  {
   "cell_type": "markdown",
   "id": "0c91dfe8-62d4-4f36-9c73-a8493daf6ac4",
   "metadata": {},
   "source": [
    "## Post-Training: Model Bias Analysis with SageMaker Clarify\n"
   ]
  },
  {
   "cell_type": "code",
   "execution_count": null,
   "id": "342f9485-c302-4784-97e3-8047b8c3fbe4",
   "metadata": {
    "scrolled": true
   },
   "outputs": [],
   "source": [
    "# Define output path\n",
    "output_path = f's3://{bucket}/{prefix}/post-training-analysis'\n",
    "\n",
    "# Define the data config\n",
    "data_config = clarify.DataConfig(\n",
    "    s3_data_input_path=f's3://{bucket}/{prefix}/train/{train_file}',\n",
    "    s3_output_path=output_path,\n",
    "    label=label_column,\n",
    "    headers=employee_df.columns.to_list(),\n",
    "    dataset_type='text/csv'\n",
    ")\n",
    "\n",
    "\n",
    "# Define the model configuration\n",
    "model_config = clarify.ModelConfig(\n",
    "    model_name=predictor.endpoint,\n",
    "    instance_type='ml.m5.xlarge',\n",
    "    instance_count=1,\n",
    "    accept_type='text/csv'\n",
    ")\n",
    "\n",
    "# Run the model bias analysis\n",
    "clarify_processor.run_bias(\n",
    "    data_config=data_config,\n",
    "    bias_config=bias_config,\n",
    "    model_config=model_config,\n",
    "    model_predicted_label_config=clarify.ModelPredictedLabelConfig(probability_threshold=0.5),\n",
    "    pre_training_methods='all',\n",
    "    post_training_methods='all'\n",
    ")\n"
   ]
  },
  {
   "cell_type": "markdown",
   "id": "1893ae77-b524-4d86-8b7b-eac87e7d9850",
   "metadata": {},
   "source": [
    "## Explainability: Configure Output Path and DataConfig\n"
   ]
  },
  {
   "cell_type": "code",
   "execution_count": null,
   "id": "8d6d3ae7-a781-49d4-9978-5fd27bc3e71f",
   "metadata": {},
   "outputs": [],
   "source": [
    "# Define output path\n",
    "explainability_report_output_path = f's3://{bucket}/{prefix}/output/explainability'\n",
    "\n",
    "\n",
    "\n",
    "explainability_data_config = clarify.DataConfig(\n",
    "    s3_data_input_path=f's3://{bucket}/{prefix}/train/{train_file}',\n",
    "    s3_output_path=explainability_report_output_path,\n",
    "    label=label_column,  # replace with your label column name\n",
    "    headers=employee_df.columns.to_list(),  # list of your dataset columns\n",
    "    dataset_type='text/csv'\n",
    ")"
   ]
  },
  {
   "cell_type": "code",
   "execution_count": null,
   "id": "0d9ac87d-9ce0-4ec4-a79b-6b28fbdcb1ac",
   "metadata": {},
   "outputs": [],
   "source": [
    "shap_config = clarify.SHAPConfig(\n",
    "    seed=123,  # random seed for reproducibility\n",
    "    num_samples=100,  # number of samples for SHAP\n",
    "    agg_method=\"mean_abs\",  # aggregation method for SHAP values\n",
    "    use_logit=False  # set True for binary classification with logit function\n",
    ")\n"
   ]
  },
  {
   "cell_type": "code",
   "execution_count": null,
   "id": "0f2a5e68-9caa-43a1-8a2d-0c61764b1669",
   "metadata": {},
   "outputs": [],
   "source": [
    "clarify_processor = clarify.SageMakerClarifyProcessor(\n",
    "    role=role,  # IAM role used for running the job\n",
    "    instance_count=1,  # number of instances\n",
    "    instance_type='ml.t3.medium',  # instance type\n",
    "    sagemaker_session=sagemaker_session  # session object\n",
    ")\n",
    "\n",
    "clarify_processor.run_explainability(\n",
    "    data_config=explainability_data_config,\n",
    "    model_config=model_config,\n",
    "    explainability_config=shap_config\n",
    ")\n"
   ]
  },
  {
   "cell_type": "code",
   "execution_count": null,
   "id": "e4681ed6-e60c-4417-88ef-cd8ed41d1fda",
   "metadata": {},
   "outputs": [],
   "source": [
    "predictor.delete_endpoint()"
   ]
  }
 ],
 "metadata": {
  "kernelspec": {
   "display_name": "Python 3 (ipykernel)",
   "language": "python",
   "name": "python3"
  },
  "language_info": {
   "codemirror_mode": {
    "name": "ipython",
    "version": 3
   },
   "file_extension": ".py",
   "mimetype": "text/x-python",
   "name": "python",
   "nbconvert_exporter": "python",
   "pygments_lexer": "ipython3",
   "version": "3.10.14"
  }
 },
 "nbformat": 4,
 "nbformat_minor": 5
}
