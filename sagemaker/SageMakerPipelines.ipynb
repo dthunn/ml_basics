{
 "cells": [
  {
   "cell_type": "code",
   "execution_count": 19,
   "id": "43170e2c-e097-46d9-828b-b1ffdecd4feb",
   "metadata": {},
   "outputs": [],
   "source": [
    "import boto3\n",
    "import sagemaker\n",
    "from sagemaker.workflow.pipeline_context import PipelineSession\n",
    "\n",
    "sagemaker_session = sagemaker.session.Session()\n",
    "region = sagemaker_session.boto_region_name\n",
    "role = sagemaker.get_execution_role()\n",
    "pipeline_session = PipelineSession()\n",
    "default_bucket = sagemaker_session.default_bucket()\n",
    "\n",
    "# Define the S3 path to the dataset\n",
    "input_data_uri = \"s3://sagemaker-ml-28573/pipelines/train/Employee.csv\"\n",
    "\n",
    "# Initialize S3 resource\n",
    "s3 = boto3.resource('s3')\n",
    "\n",
    "# Define your S3 bucket and path\n",
    "bucket_name = 'sagemaker-ml-28573'\n",
    "prefix = 'pipeline'\n",
    "\n"
   ]
  },
  {
   "cell_type": "code",
   "execution_count": 20,
   "id": "84628f90-0d75-4838-852d-0458d2560909",
   "metadata": {},
   "outputs": [
    {
     "name": "stderr",
     "output_type": "stream",
     "text": [
      "INFO:sagemaker.image_uris:Ignoring unnecessary instance type: None.\n"
     ]
    }
   ],
   "source": [
    "from sagemaker.estimator import Estimator\n",
    "from sagemaker.inputs import TrainingInput\n",
    "from sagemaker.workflow.steps import TrainingStep\n",
    "\n",
    "# Define the XGBoost Estimator\n",
    "xgb_train = Estimator(\n",
    "    image_uri=sagemaker.image_uris.retrieve(\"xgboost\", boto3.Session().region_name, \"1.2-1\"),\n",
    "    instance_type=\"ml.m5.xlarge\",\n",
    "    instance_count=1,\n",
    "    output_path=f\"s3://{bucket_name}/model-output\",\n",
    "    role=role,\n",
    "    sagemaker_session=pipeline_session,\n",
    ")\n",
    "\n",
    "# Set hyperparameters\n",
    "xgb_train.set_hyperparameters(\n",
    "    objective=\"binary:logistic\",\n",
    "    num_round=100,\n",
    "    max_depth=5,\n",
    "    eta=0.2,\n",
    "    gamma=4,\n",
    "    min_child_weight=6,\n",
    "    subsample=0.7,\n",
    ")\n",
    "\n",
    "# Define the training step\n",
    "step_train = TrainingStep(\n",
    "    name=\"EmployeeAttritionTrain\",\n",
    "    estimator=xgb_train,\n",
    "    inputs={\n",
    "        \"train\": TrainingInput(s3_data=\"s3://sagemaker-ml-28573/pipelines/train/Employee.csv\", content_type=\"text/csv\"),\n",
    "    },\n",
    ")\n"
   ]
  },
  {
   "cell_type": "code",
   "execution_count": 25,
   "id": "7244f003-2c1a-472a-a82b-0e5ec9f8413c",
   "metadata": {},
   "outputs": [],
   "source": [
    "from sagemaker.model_metrics import MetricsSource, ModelMetrics\n",
    "from sagemaker.workflow.model_step import ModelStep\n",
    "from sagemaker.model import Model\n",
    "\n",
    "# Define model metrics using the output of the evaluation step\n",
    "\n",
    "# Define the model to be registered\n",
    "model = Model(\n",
    "    image_uri=xgb_train.image_uri,  # Use the same image URI as the training step\n",
    "    model_data=step_train.properties.ModelArtifacts.S3ModelArtifacts,\n",
    "    sagemaker_session=pipeline_session,\n",
    "    role=role,\n",
    ")\n",
    "\n",
    "# Register the model\n",
    "register_args = model.register(\n",
    "    content_types=[\"text/csv\"],  # Content type of the input data\n",
    "    response_types=[\"text/csv\"],  # Content type of the output data\n",
    "    inference_instances=[\"ml.t2.medium\"],  # Supported inference instance types\n",
    "    transform_instances=[\"ml.m4.xlarge\"],  # Supported transform instance types\n",
    "    model_package_group_name=\"EmployeeAttritionModelGroup23\",  # Model package group name\n",
    "    #approval_status=model_approval_status,  # Default approval status\n",
    "   \n",
    ")\n",
    "\n",
    "# Create a ModelStep to register the model\n",
    "step_register = ModelStep(\n",
    "    name=\"EmployeeAttritionRegisterModel\",\n",
    "    step_args=register_args,\n",
    ")\n"
   ]
  },
  {
   "cell_type": "code",
   "execution_count": 26,
   "id": "285aaf11-019a-4afb-96f4-70f97d36ba16",
   "metadata": {},
   "outputs": [],
   "source": [
    "from sagemaker.workflow.pipeline import Pipeline\n",
    "\n",
    "# Define the pipeline\n",
    "pipeline = Pipeline(\n",
    "    name=\"EmployeeAttritionPipeline-2\",\n",
    "    steps=[step_train, step_register],\n",
    ")\n",
    "\n",
    "\n"
   ]
  },
  {
   "cell_type": "code",
   "execution_count": 23,
   "id": "78f04183-c8bb-4ece-af03-d3c9e778d0f6",
   "metadata": {},
   "outputs": [
    {
     "name": "stderr",
     "output_type": "stream",
     "text": [
      "WARNING:sagemaker.workflow.utilities:Popping out 'TrainingJobName' from the pipeline definition by default since it will be overridden at pipeline execution time. Please utilize the PipelineDefinitionConfig to persist this field in the pipeline definition if desired.\n",
      "WARNING:sagemaker.workflow._utils:Popping out 'CertifyForMarketplace' from the pipeline definition since it will be overridden in pipeline execution time.\n",
      "WARNING:sagemaker.workflow.utilities:Popping out 'ModelPackageName' from the pipeline definition by default since it will be overridden at pipeline execution time. Please utilize the PipelineDefinitionConfig to persist this field in the pipeline definition if desired.\n"
     ]
    },
    {
     "data": {
      "text/plain": [
       "{'Version': '2020-12-01',\n",
       " 'Metadata': {},\n",
       " 'Parameters': [],\n",
       " 'PipelineExperimentConfig': {'ExperimentName': {'Get': 'Execution.PipelineName'},\n",
       "  'TrialName': {'Get': 'Execution.PipelineExecutionId'}},\n",
       " 'Steps': [{'Name': 'EmployeeAttritionTrain',\n",
       "   'Type': 'Training',\n",
       "   'Arguments': {'AlgorithmSpecification': {'TrainingInputMode': 'File',\n",
       "     'TrainingImage': '683313688378.dkr.ecr.us-east-1.amazonaws.com/sagemaker-xgboost:1.2-1'},\n",
       "    'OutputDataConfig': {'S3OutputPath': 's3://sagemaker-ml-28573/model-output'},\n",
       "    'StoppingCondition': {'MaxRuntimeInSeconds': 86400},\n",
       "    'ResourceConfig': {'VolumeSizeInGB': 30,\n",
       "     'InstanceCount': 1,\n",
       "     'InstanceType': 'ml.m5.xlarge'},\n",
       "    'RoleArn': 'arn:aws:iam::448049810900:role/service-role/AmazonSageMaker-ExecutionRole-20240823T111826',\n",
       "    'InputDataConfig': [{'DataSource': {'S3DataSource': {'S3DataType': 'S3Prefix',\n",
       "        'S3Uri': 's3://sagemaker-ml-28573/pipelines/train/Employee.csv',\n",
       "        'S3DataDistributionType': 'FullyReplicated'}},\n",
       "      'ContentType': 'text/csv',\n",
       "      'ChannelName': 'train'}],\n",
       "    'HyperParameters': {'objective': 'binary:logistic',\n",
       "     'num_round': '100',\n",
       "     'max_depth': '5',\n",
       "     'eta': '0.2',\n",
       "     'gamma': '4',\n",
       "     'min_child_weight': '6',\n",
       "     'subsample': '0.7'},\n",
       "    'DebugHookConfig': {'S3OutputPath': 's3://sagemaker-ml-28573/model-output',\n",
       "     'CollectionConfigurations': []},\n",
       "    'ProfilerConfig': {'S3OutputPath': 's3://sagemaker-ml-28573/model-output',\n",
       "     'DisableProfiler': False}}},\n",
       "  {'Name': 'EmployeeAttritionRegisterModel-RegisterModel',\n",
       "   'Type': 'RegisterModel',\n",
       "   'Arguments': {'ModelPackageGroupName': 'EmployeeAttritionModelGroup5',\n",
       "    'InferenceSpecification': {'Containers': [{'Image': '683313688378.dkr.ecr.us-east-1.amazonaws.com/sagemaker-xgboost:1.2-1',\n",
       "       'Environment': {},\n",
       "       'ModelDataUrl': {'Get': 'Steps.EmployeeAttritionTrain.ModelArtifacts.S3ModelArtifacts'}}],\n",
       "     'SupportedContentTypes': ['text/csv'],\n",
       "     'SupportedResponseMIMETypes': ['text/csv'],\n",
       "     'SupportedRealtimeInferenceInstanceTypes': ['ml.t2.medium'],\n",
       "     'SupportedTransformInstanceTypes': ['ml.m4.xlarge']},\n",
       "    'ModelApprovalStatus': 'PendingManualApproval',\n",
       "    'SkipModelValidation': 'None'}}]}"
      ]
     },
     "execution_count": 23,
     "metadata": {},
     "output_type": "execute_result"
    }
   ],
   "source": [
    "import json\n",
    "\n",
    "\n",
    "definition = json.loads(pipeline.definition())\n",
    "definition"
   ]
  },
  {
   "cell_type": "code",
   "execution_count": 27,
   "id": "ea5833ff-37d8-43c0-94d5-4fec6ef56ffa",
   "metadata": {},
   "outputs": [
    {
     "name": "stderr",
     "output_type": "stream",
     "text": [
      "WARNING:sagemaker.workflow.utilities:Popping out 'TrainingJobName' from the pipeline definition by default since it will be overridden at pipeline execution time. Please utilize the PipelineDefinitionConfig to persist this field in the pipeline definition if desired.\n",
      "WARNING:sagemaker.workflow._utils:Popping out 'CertifyForMarketplace' from the pipeline definition since it will be overridden in pipeline execution time.\n",
      "WARNING:sagemaker.workflow.utilities:Popping out 'ModelPackageName' from the pipeline definition by default since it will be overridden at pipeline execution time. Please utilize the PipelineDefinitionConfig to persist this field in the pipeline definition if desired.\n",
      "WARNING:sagemaker.workflow.utilities:Popping out 'TrainingJobName' from the pipeline definition by default since it will be overridden at pipeline execution time. Please utilize the PipelineDefinitionConfig to persist this field in the pipeline definition if desired.\n",
      "WARNING:sagemaker.workflow.utilities:Popping out 'ModelPackageName' from the pipeline definition by default since it will be overridden at pipeline execution time. Please utilize the PipelineDefinitionConfig to persist this field in the pipeline definition if desired.\n"
     ]
    },
    {
     "data": {
      "text/plain": [
       "{'PipelineArn': 'arn:aws:sagemaker:us-east-1:448049810900:pipeline/EmployeeAttritionPipeline-2',\n",
       " 'ResponseMetadata': {'RequestId': 'e31e99c4-9c96-4b3b-81b8-63bd2ba3dae7',\n",
       "  'HTTPStatusCode': 200,\n",
       "  'HTTPHeaders': {'x-amzn-requestid': 'e31e99c4-9c96-4b3b-81b8-63bd2ba3dae7',\n",
       "   'content-type': 'application/x-amz-json-1.1',\n",
       "   'content-length': '95',\n",
       "   'date': 'Wed, 04 Sep 2024 18:40:01 GMT'},\n",
       "  'RetryAttempts': 0}}"
      ]
     },
     "execution_count": 27,
     "metadata": {},
     "output_type": "execute_result"
    }
   ],
   "source": [
    "\n",
    "# Submit the pipeline definition to SageMaker\n",
    "pipeline.upsert(role_arn=role)"
   ]
  },
  {
   "cell_type": "code",
   "execution_count": 28,
   "id": "d46a9986-3638-4099-af4f-001f133dd989",
   "metadata": {},
   "outputs": [],
   "source": [
    "# Start the pipeline execution\n",
    "execution = pipeline.start()\n",
    "\n",
    "# Wait for the pipeline execution to complete\n",
    "execution.wait()\n"
   ]
  },
  {
   "cell_type": "code",
   "execution_count": null,
   "id": "328c0164-4bec-4fe7-927b-f9a44a26bac4",
   "metadata": {},
   "outputs": [],
   "source": [
    "pipeline.delete()"
   ]
  }
 ],
 "metadata": {
  "kernelspec": {
   "display_name": "Python 3 (ipykernel)",
   "language": "python",
   "name": "python3"
  },
  "language_info": {
   "codemirror_mode": {
    "name": "ipython",
    "version": 3
   },
   "file_extension": ".py",
   "mimetype": "text/x-python",
   "name": "python",
   "nbconvert_exporter": "python",
   "pygments_lexer": "ipython3",
   "version": "3.10.14"
  }
 },
 "nbformat": 4,
 "nbformat_minor": 5
}
