{
 "cells": [
  {
   "cell_type": "markdown",
   "id": "3fee15d7",
   "metadata": {},
   "source": [
    "# SageMaker Feature Store Example\n",
    "\n",
    "This notebook demonstrates how to create feature groups, ingest data into the SageMaker Feature Store, and query the data using Amazon Athena. \n",
    "\n",
    "The steps included are:\n",
    "1. **Setup and Initialization**: Import libraries and set up the SageMaker environment.\n",
    "2. **Data Inspection**: Load and inspect the synthetic data.\n",
    "3. **Feature Group Creation**: Create feature groups for the data.\n",
    "4. **Data Ingestion**: Ingest the data into the feature groups.\n",
    "5. **Querying the Data**: Query the ingested data using Athena.\n",
    "6. **Cleanup** (Optional): Clean up the resources after verification.\n"
   ]
  },
  {
   "cell_type": "markdown",
   "id": "00f8b0aa",
   "metadata": {},
   "source": [
    "## Step 1: Setup and Initialization\n",
    "\n",
    "We begin by importing the necessary libraries and setting up the SageMaker environment. The `get_execution_role` function is used to obtain the role associated with the current SageMaker session, and we define the S3 bucket to be used for storing the offline features.\n"
   ]
  },
  {
   "cell_type": "code",
   "execution_count": null,
   "id": "db44305f",
   "metadata": {},
   "outputs": [],
   "source": [
    "import sagemaker\n",
    "from sagemaker import get_execution_role\n",
    "from sagemaker.feature_store.feature_group import FeatureGroup\n",
    "import pandas as pd\n",
    "import time\n",
    "\n",
    "# Since you're using JupyterLab in SageMaker Studio, you can directly get the role\n",
    "role = get_execution_role()\n",
    "\n",
    "# Define S3 bucket and prefix for the offline store\n",
    "s3_bucket_name = sagemaker.Session().default_bucket()  # This automatically uses the default session\n",
    "prefix = 'sagemaker-featurestore-introduction'\n"
   ]
  },
  {
   "cell_type": "markdown",
   "id": "3d1c32ed",
   "metadata": {},
   "source": [
    "## Step 2: Data Inspection\n",
    "\n",
    "Here, we create synthetic customer and order data for demonstration purposes. In practice, you would load your data from a CSV file or another data source.\n"
   ]
  },
  {
   "cell_type": "code",
   "execution_count": null,
   "id": "abb858f7",
   "metadata": {},
   "outputs": [],
   "source": [
    "# Step 2: Inspect and load your data\n",
    "# (Use actual data paths if needed)\n",
    "customer_data = pd.DataFrame({\n",
    "    'customer_id': [1, 2, 3],\n",
    "    'first_name': ['John', 'Jane', 'Doe'],\n",
    "    'last_name': ['Doe', 'Smith', 'Johnson'],\n",
    "    'age': [28, 34, 29],\n",
    "    'account_balance': [1000.50, 1500.75, 2000.25]\n",
    "})\n",
    "\n",
    "orders_data = pd.DataFrame({\n",
    "    'customer_id': [1, 2, 3],\n",
    "    'order_id': [101, 102, 103],\n",
    "    'order_amount': [250.75, 100.50, 320.00],\n",
    "    'order_date': pd.to_datetime(['2023-08-01', '2023-08-02', '2023-08-03'])\n",
    "})\n",
    "\n",
    "print(customer_data.head())\n",
    "print(orders_data.head())\n"
   ]
  },
  {
   "cell_type": "markdown",
   "id": "e3611a51",
   "metadata": {},
   "source": [
    "## Step 3: Feature Group Creation\n",
    "\n",
    "In this step, we create feature groups for the customer and order data. Feature groups are the core components of the SageMaker Feature Store and serve as containers for your features.\n"
   ]
  },
  {
   "cell_type": "code",
   "execution_count": null,
   "id": "f57412ff",
   "metadata": {},
   "outputs": [],
   "source": [
    "# Step 3: Create Feature Groups\n",
    "customers_feature_group_name = 'customers-feature-group-' + time.strftime('%d-%H-%M-%S', time.gmtime())\n",
    "orders_feature_group_name = 'orders-feature-group-' + time.strftime('%d-%H-%M-%S', time.gmtime())\n",
    "\n",
    "customers_feature_group = FeatureGroup(name=customers_feature_group_name)\n",
    "orders_feature_group = FeatureGroup(name=orders_feature_group_name)\n",
    "\n",
    "# Generate a proper ISO 8601 string (UTC)\n",
    "current_time_str = time.strftime('%Y-%m-%dT%H:%M:%SZ', time.gmtime())\n",
    "\n",
    "# Instead of numeric timestamps, assign this ISO string directly\n",
    "customer_data[\"EventTime\"] = current_time_str\n",
    "orders_data[\"EventTime\"] = current_time_str\n",
    "\n",
    "customers_feature_group.load_feature_definitions(data_frame=customer_data)\n",
    "orders_feature_group.load_feature_definitions(data_frame=orders_data)\n",
    "\n",
    "# Create Feature Groups\n",
    "customers_feature_group.create(\n",
    "    s3_uri=f\"s3://{s3_bucket_name}/{prefix}\",\n",
    "    record_identifier_name='customer_id',\n",
    "    event_time_feature_name=\"EventTime\",\n",
    "    role_arn=role,\n",
    "    enable_online_store=True\n",
    ")\n",
    "\n",
    "orders_feature_group.create(\n",
    "    s3_uri=f\"s3://{s3_bucket_name}/{prefix}\",\n",
    "    record_identifier_name='customer_id',\n",
    "    event_time_feature_name=\"EventTime\",\n",
    "    role_arn=role,\n",
    "    enable_online_store=True\n",
    ")\n"
   ]
  },
  {
   "cell_type": "markdown",
   "id": "d9a072b5",
   "metadata": {},
   "source": [
    "## Step 4: Data Ingestion\n",
    "\n",
    "Once the feature groups are created, we can ingest the customer and order data into the respective feature groups. The data is stored in both the online and offline stores of SageMaker Feature Store.\n"
   ]
  },
  {
   "cell_type": "code",
   "execution_count": null,
   "id": "2e9f72f7",
   "metadata": {},
   "outputs": [],
   "source": [
    "# Wait for feature groups to be created\n",
    "def check_feature_group_status(feature_group):\n",
    "    status = feature_group.describe().get(\"FeatureGroupStatus\")\n",
    "    while status == \"Creating\":\n",
    "        print(\"Waiting for Feature Group to be Created\")\n",
    "        time.sleep(5)\n",
    "        status = feature_group.describe().get(\"FeatureGroupStatus\")\n",
    "    print(f\"FeatureGroup {feature_group.name} successfully created.\")\n",
    "\n",
    "check_feature_group_status(customers_feature_group)\n",
    "check_feature_group_status(orders_feature_group)\n"
   ]
  },
  {
   "cell_type": "code",
   "execution_count": null,
   "id": "03bcce10",
   "metadata": {},
   "outputs": [],
   "source": [
    "# Step 4: Ingest Data\n",
    "customers_feature_group.ingest(data_frame=customer_data, max_workers=3, wait=True)\n",
    "orders_feature_group.ingest(data_frame=orders_data, max_workers=3, wait=True)\n"
   ]
  },
  {
   "cell_type": "markdown",
   "id": "81fb396c",
   "metadata": {},
   "source": [
    "## Step 5: Querying the Data\n",
    "\n",
    "We can query the data stored in the offline feature store using Amazon Athena. This step demonstrates how to run a simple SQL query to retrieve data from the feature store.\n"
   ]
  },
  {
   "cell_type": "code",
   "execution_count": null,
   "id": "9a238efd",
   "metadata": {},
   "outputs": [],
   "source": [
    "# Step 5: Retrieve Records from the Online Store\n",
    "import boto3\n",
    "\n",
    "# Initialize the SageMaker Feature Store runtime client\n",
    "featurestore_runtime = boto3.client('sagemaker-featurestore-runtime')\n",
    "\n",
    "# Retrieve a record from the online store\n",
    "record_id = '1'  # Replace with the actual record ID you want to retrieve\n",
    "response = featurestore_runtime.get_record(\n",
    "    FeatureGroupName=customers_feature_group_name,\n",
    "    RecordIdentifierValueAsString=record_id\n",
    ")\n",
    "\n",
    "# Print the record\n",
    "print(\"Record retrieved from the online store:\")\n",
    "print(response['Record'])\n"
   ]
  },
  {
   "cell_type": "code",
   "execution_count": null,
   "id": "be5dcda3",
   "metadata": {},
   "outputs": [],
   "source": [
    "# Step 5: Query Data Using Athena\n",
    "from sagemaker.feature_store.feature_group import FeatureGroup, AthenaQuery\n",
    "import sagemaker\n",
    "\n",
    "# Create a SageMaker session\n",
    "sagemaker_session = sagemaker.Session()\n",
    "\n",
    "# Describe the feature groups to get the correct table names\n",
    "customers_feature_group_description = customers_feature_group.describe()\n",
    "orders_feature_group_description = orders_feature_group.describe()\n",
    "\n",
    "# Extract the table names from the description\n",
    "customers_table_name = customers_feature_group_description['OfflineStoreConfig']['DataCatalogConfig']['TableName']\n",
    "orders_table_name = orders_feature_group_description['OfflineStoreConfig']['DataCatalogConfig']['TableName']\n",
    "\n",
    "print(f\"Customers Table Name: {customers_table_name}\")\n",
    "print(f\"Orders Table Name: {orders_table_name}\")\n",
    "\n",
    "# Now use the correct table name from the feature group description\n",
    "query_string = f'SELECT * FROM \"{customers_table_name}\" LIMIT 10'\n",
    "\n",
    "# Create the AthenaQuery object\n",
    "athena_query = AthenaQuery(\n",
    "    catalog='AwsDataCatalog',\n",
    "    database='sagemaker_featurestore',\n",
    "    table_name=customers_table_name,\n",
    "    sagemaker_session=sagemaker_session\n",
    ")\n",
    "\n",
    "# Execute the query\n",
    "athena_query.run(query_string=query_string, output_location=f's3://{s3_bucket_name}/athena_results/')\n",
    "\n",
    "# Wait for the query to complete\n",
    "athena_query.wait()\n",
    "\n",
    "# Convert the results to a DataFrame\n",
    "query_results = athena_query.as_dataframe()\n",
    "\n",
    "# Display the results\n",
    "print(query_results)"
   ]
  },
  {
   "cell_type": "markdown",
   "id": "6bf61da0",
   "metadata": {},
   "source": [
    "## Step 6: Cleanup (Optional)\n",
    "\n",
    "After you are done with the feature groups, you may want to delete them to avoid incurring additional charges. The following code demonstrates how to delete the feature groups.\n"
   ]
  },
  {
   "cell_type": "code",
   "execution_count": null,
   "id": "0bc465f3",
   "metadata": {},
   "outputs": [],
   "source": [
    "# Step 6: Clean up (optional)\n",
    "customers_feature_group.delete()\n",
    "orders_feature_group.delete()\n"
   ]
  },
  {
   "cell_type": "code",
   "execution_count": null,
   "id": "dd24f6e7",
   "metadata": {},
   "outputs": [],
   "source": [
    "import boto3\n",
    "\n",
    "s3 = boto3.resource('s3')\n",
    "bucket = s3.Bucket(s3_bucket_name)\n",
    "prefix = f'{prefix}/'  # Use the same prefix that was used during creation\n",
    "\n",
    "# Delete all objects under the prefix\n",
    "bucket.objects.filter(Prefix=prefix).delete()\n"
   ]
  },
  {
   "cell_type": "code",
   "execution_count": null,
   "id": "4d3a1602",
   "metadata": {},
   "outputs": [],
   "source": [
    "athena_results_prefix = 'athena_results/'  # Or your specific prefix\n",
    "bucket.objects.filter(Prefix=athena_results_prefix).delete()\n"
   ]
  }
 ],
 "metadata": {
  "language_info": {
   "name": "python"
  }
 },
 "nbformat": 4,
 "nbformat_minor": 5
}
